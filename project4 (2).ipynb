{
 "cells": [
  {
   "cell_type": "code",
   "execution_count": 9,
   "metadata": {
    "collapsed": true
   },
   "outputs": [],
   "source": [
    "# importing libraries\n",
    "import pandas as pd\n",
    "import numpy as np\n",
    "import matplotlib.pyplot as plt\n",
    "import seaborn as sns\n",
    "%matplotlib inline  "
   ]
  },
  {
   "cell_type": "markdown",
   "metadata": {},
   "source": [
    "# Physical Activity and Heart Disease \n",
    "#### by Ismail Salim and Alleanna Clark\n",
    "\n",
    "This project looks at physical activity and risks for cardiovascular disease based on data from the Centers for Disease Control and Prevention. We were interested in seeing if there is a difference in various parts of the country and whether or not there is an association between physical activity (which is measures by walking/biking to work in the dataset). This could affect our results because it does not take into account other physical activity however it is a consistent form of exercise that can be answered in a simple yes/no question. "
   ]
  },
  {
   "cell_type": "markdown",
   "metadata": {},
   "source": [
    "### Preprocessing"
   ]
  },
  {
   "cell_type": "code",
   "execution_count": 10,
   "metadata": {
    "collapsed": true
   },
   "outputs": [
    {
     "ename": "FileNotFoundError",
     "evalue": "File b'Behavioral_Risk_Factor_Data__Heart_Disease___Stroke_Prevention.csv' does not exist",
     "output_type": "error",
     "traceback": [
      "\u001b[0;31m---------------------------------------------------------------------------\u001b[0m",
      "\u001b[0;31mFileNotFoundError\u001b[0m                         Traceback (most recent call last)",
      "\u001b[0;32m<ipython-input-10-ffb594f3f909>\u001b[0m in \u001b[0;36m<module>\u001b[0;34m()\u001b[0m\n\u001b[1;32m      1\u001b[0m \u001b[0;31m# read csv files\u001b[0m\u001b[0;34m\u001b[0m\u001b[0;34m\u001b[0m\u001b[0m\n\u001b[0;32m----> 2\u001b[0;31m \u001b[0mdisease_df\u001b[0m \u001b[0;34m=\u001b[0m \u001b[0mpd\u001b[0m\u001b[0;34m.\u001b[0m\u001b[0mread_csv\u001b[0m\u001b[0;34m(\u001b[0m\u001b[0;34m\"Behavioral_Risk_Factor_Data__Heart_Disease___Stroke_Prevention.csv\"\u001b[0m\u001b[0;34m)\u001b[0m\u001b[0;34m\u001b[0m\u001b[0m\n\u001b[0m\u001b[1;32m      3\u001b[0m \u001b[0mactivity_df\u001b[0m \u001b[0;34m=\u001b[0m \u001b[0mpd\u001b[0m\u001b[0;34m.\u001b[0m\u001b[0mread_csv\u001b[0m\u001b[0;34m(\u001b[0m\u001b[0;34m\"Nutrition__Physical_Activity__and_Obesity_-_American_Community_Survey.csv\"\u001b[0m\u001b[0;34m)\u001b[0m\u001b[0;34m\u001b[0m\u001b[0m\n",
      "\u001b[0;32m/srv/app/venv/lib/python3.6/site-packages/pandas/io/parsers.py\u001b[0m in \u001b[0;36mparser_f\u001b[0;34m(filepath_or_buffer, sep, delimiter, header, names, index_col, usecols, squeeze, prefix, mangle_dupe_cols, dtype, engine, converters, true_values, false_values, skipinitialspace, skiprows, nrows, na_values, keep_default_na, na_filter, verbose, skip_blank_lines, parse_dates, infer_datetime_format, keep_date_col, date_parser, dayfirst, iterator, chunksize, compression, thousands, decimal, lineterminator, quotechar, quoting, escapechar, comment, encoding, dialect, tupleize_cols, error_bad_lines, warn_bad_lines, skipfooter, skip_footer, doublequote, delim_whitespace, as_recarray, compact_ints, use_unsigned, low_memory, buffer_lines, memory_map, float_precision)\u001b[0m\n\u001b[1;32m    644\u001b[0m                     skip_blank_lines=skip_blank_lines)\n\u001b[1;32m    645\u001b[0m \u001b[0;34m\u001b[0m\u001b[0m\n\u001b[0;32m--> 646\u001b[0;31m         \u001b[0;32mreturn\u001b[0m \u001b[0m_read\u001b[0m\u001b[0;34m(\u001b[0m\u001b[0mfilepath_or_buffer\u001b[0m\u001b[0;34m,\u001b[0m \u001b[0mkwds\u001b[0m\u001b[0;34m)\u001b[0m\u001b[0;34m\u001b[0m\u001b[0m\n\u001b[0m\u001b[1;32m    647\u001b[0m \u001b[0;34m\u001b[0m\u001b[0m\n\u001b[1;32m    648\u001b[0m     \u001b[0mparser_f\u001b[0m\u001b[0;34m.\u001b[0m\u001b[0m__name__\u001b[0m \u001b[0;34m=\u001b[0m \u001b[0mname\u001b[0m\u001b[0;34m\u001b[0m\u001b[0m\n",
      "\u001b[0;32m/srv/app/venv/lib/python3.6/site-packages/pandas/io/parsers.py\u001b[0m in \u001b[0;36m_read\u001b[0;34m(filepath_or_buffer, kwds)\u001b[0m\n\u001b[1;32m    387\u001b[0m \u001b[0;34m\u001b[0m\u001b[0m\n\u001b[1;32m    388\u001b[0m     \u001b[0;31m# Create the parser.\u001b[0m\u001b[0;34m\u001b[0m\u001b[0;34m\u001b[0m\u001b[0m\n\u001b[0;32m--> 389\u001b[0;31m     \u001b[0mparser\u001b[0m \u001b[0;34m=\u001b[0m \u001b[0mTextFileReader\u001b[0m\u001b[0;34m(\u001b[0m\u001b[0mfilepath_or_buffer\u001b[0m\u001b[0;34m,\u001b[0m \u001b[0;34m**\u001b[0m\u001b[0mkwds\u001b[0m\u001b[0;34m)\u001b[0m\u001b[0;34m\u001b[0m\u001b[0m\n\u001b[0m\u001b[1;32m    390\u001b[0m \u001b[0;34m\u001b[0m\u001b[0m\n\u001b[1;32m    391\u001b[0m     \u001b[0;32mif\u001b[0m \u001b[0;34m(\u001b[0m\u001b[0mnrows\u001b[0m \u001b[0;32mis\u001b[0m \u001b[0;32mnot\u001b[0m \u001b[0;32mNone\u001b[0m\u001b[0;34m)\u001b[0m \u001b[0;32mand\u001b[0m \u001b[0;34m(\u001b[0m\u001b[0mchunksize\u001b[0m \u001b[0;32mis\u001b[0m \u001b[0;32mnot\u001b[0m \u001b[0;32mNone\u001b[0m\u001b[0;34m)\u001b[0m\u001b[0;34m:\u001b[0m\u001b[0;34m\u001b[0m\u001b[0m\n",
      "\u001b[0;32m/srv/app/venv/lib/python3.6/site-packages/pandas/io/parsers.py\u001b[0m in \u001b[0;36m__init__\u001b[0;34m(self, f, engine, **kwds)\u001b[0m\n\u001b[1;32m    728\u001b[0m             \u001b[0mself\u001b[0m\u001b[0;34m.\u001b[0m\u001b[0moptions\u001b[0m\u001b[0;34m[\u001b[0m\u001b[0;34m'has_index_names'\u001b[0m\u001b[0;34m]\u001b[0m \u001b[0;34m=\u001b[0m \u001b[0mkwds\u001b[0m\u001b[0;34m[\u001b[0m\u001b[0;34m'has_index_names'\u001b[0m\u001b[0;34m]\u001b[0m\u001b[0;34m\u001b[0m\u001b[0m\n\u001b[1;32m    729\u001b[0m \u001b[0;34m\u001b[0m\u001b[0m\n\u001b[0;32m--> 730\u001b[0;31m         \u001b[0mself\u001b[0m\u001b[0;34m.\u001b[0m\u001b[0m_make_engine\u001b[0m\u001b[0;34m(\u001b[0m\u001b[0mself\u001b[0m\u001b[0;34m.\u001b[0m\u001b[0mengine\u001b[0m\u001b[0;34m)\u001b[0m\u001b[0;34m\u001b[0m\u001b[0m\n\u001b[0m\u001b[1;32m    731\u001b[0m \u001b[0;34m\u001b[0m\u001b[0m\n\u001b[1;32m    732\u001b[0m     \u001b[0;32mdef\u001b[0m \u001b[0mclose\u001b[0m\u001b[0;34m(\u001b[0m\u001b[0mself\u001b[0m\u001b[0;34m)\u001b[0m\u001b[0;34m:\u001b[0m\u001b[0;34m\u001b[0m\u001b[0m\n",
      "\u001b[0;32m/srv/app/venv/lib/python3.6/site-packages/pandas/io/parsers.py\u001b[0m in \u001b[0;36m_make_engine\u001b[0;34m(self, engine)\u001b[0m\n\u001b[1;32m    921\u001b[0m     \u001b[0;32mdef\u001b[0m \u001b[0m_make_engine\u001b[0m\u001b[0;34m(\u001b[0m\u001b[0mself\u001b[0m\u001b[0;34m,\u001b[0m \u001b[0mengine\u001b[0m\u001b[0;34m=\u001b[0m\u001b[0;34m'c'\u001b[0m\u001b[0;34m)\u001b[0m\u001b[0;34m:\u001b[0m\u001b[0;34m\u001b[0m\u001b[0m\n\u001b[1;32m    922\u001b[0m         \u001b[0;32mif\u001b[0m \u001b[0mengine\u001b[0m \u001b[0;34m==\u001b[0m \u001b[0;34m'c'\u001b[0m\u001b[0;34m:\u001b[0m\u001b[0;34m\u001b[0m\u001b[0m\n\u001b[0;32m--> 923\u001b[0;31m             \u001b[0mself\u001b[0m\u001b[0;34m.\u001b[0m\u001b[0m_engine\u001b[0m \u001b[0;34m=\u001b[0m \u001b[0mCParserWrapper\u001b[0m\u001b[0;34m(\u001b[0m\u001b[0mself\u001b[0m\u001b[0;34m.\u001b[0m\u001b[0mf\u001b[0m\u001b[0;34m,\u001b[0m \u001b[0;34m**\u001b[0m\u001b[0mself\u001b[0m\u001b[0;34m.\u001b[0m\u001b[0moptions\u001b[0m\u001b[0;34m)\u001b[0m\u001b[0;34m\u001b[0m\u001b[0m\n\u001b[0m\u001b[1;32m    924\u001b[0m         \u001b[0;32melse\u001b[0m\u001b[0;34m:\u001b[0m\u001b[0;34m\u001b[0m\u001b[0m\n\u001b[1;32m    925\u001b[0m             \u001b[0;32mif\u001b[0m \u001b[0mengine\u001b[0m \u001b[0;34m==\u001b[0m \u001b[0;34m'python'\u001b[0m\u001b[0;34m:\u001b[0m\u001b[0;34m\u001b[0m\u001b[0m\n",
      "\u001b[0;32m/srv/app/venv/lib/python3.6/site-packages/pandas/io/parsers.py\u001b[0m in \u001b[0;36m__init__\u001b[0;34m(self, src, **kwds)\u001b[0m\n\u001b[1;32m   1388\u001b[0m         \u001b[0mkwds\u001b[0m\u001b[0;34m[\u001b[0m\u001b[0;34m'allow_leading_cols'\u001b[0m\u001b[0;34m]\u001b[0m \u001b[0;34m=\u001b[0m \u001b[0mself\u001b[0m\u001b[0;34m.\u001b[0m\u001b[0mindex_col\u001b[0m \u001b[0;32mis\u001b[0m \u001b[0;32mnot\u001b[0m \u001b[0;32mFalse\u001b[0m\u001b[0;34m\u001b[0m\u001b[0m\n\u001b[1;32m   1389\u001b[0m \u001b[0;34m\u001b[0m\u001b[0m\n\u001b[0;32m-> 1390\u001b[0;31m         \u001b[0mself\u001b[0m\u001b[0;34m.\u001b[0m\u001b[0m_reader\u001b[0m \u001b[0;34m=\u001b[0m \u001b[0m_parser\u001b[0m\u001b[0;34m.\u001b[0m\u001b[0mTextReader\u001b[0m\u001b[0;34m(\u001b[0m\u001b[0msrc\u001b[0m\u001b[0;34m,\u001b[0m \u001b[0;34m**\u001b[0m\u001b[0mkwds\u001b[0m\u001b[0;34m)\u001b[0m\u001b[0;34m\u001b[0m\u001b[0m\n\u001b[0m\u001b[1;32m   1391\u001b[0m \u001b[0;34m\u001b[0m\u001b[0m\n\u001b[1;32m   1392\u001b[0m         \u001b[0;31m# XXX\u001b[0m\u001b[0;34m\u001b[0m\u001b[0;34m\u001b[0m\u001b[0m\n",
      "\u001b[0;32mpandas/parser.pyx\u001b[0m in \u001b[0;36mpandas.parser.TextReader.__cinit__ (pandas/parser.c:4184)\u001b[0;34m()\u001b[0m\n",
      "\u001b[0;32mpandas/parser.pyx\u001b[0m in \u001b[0;36mpandas.parser.TextReader._setup_parser_source (pandas/parser.c:8449)\u001b[0;34m()\u001b[0m\n",
      "\u001b[0;31mFileNotFoundError\u001b[0m: File b'Behavioral_Risk_Factor_Data__Heart_Disease___Stroke_Prevention.csv' does not exist"
     ]
    }
   ],
   "source": [
    "# read csv files\n",
    "disease_df = pd.read_csv(\"Behavioral_Risk_Factor_Data__Heart_Disease___Stroke_Prevention.csv\")\n",
    "activity_df = pd.read_csv(\"Nutrition__Physical_Activity__and_Obesity_-_American_Community_Survey.csv\")"
   ]
  },
  {
   "cell_type": "markdown",
   "metadata": {},
   "source": [
    "### Cleaning the Activity DataFrame"
   ]
  },
  {
   "cell_type": "code",
   "execution_count": null,
   "metadata": {
    "collapsed": true
   },
   "outputs": [],
   "source": [
    "# shape of activity dataframe\n",
    "activity_df.shape"
   ]
  },
  {
   "cell_type": "code",
   "execution_count": 11,
   "metadata": {
    "collapsed": true
   },
   "outputs": [
    {
     "ename": "NameError",
     "evalue": "name 'activity_df' is not defined",
     "output_type": "error",
     "traceback": [
      "\u001b[0;31m---------------------------------------------------------------------------\u001b[0m",
      "\u001b[0;31mNameError\u001b[0m                                 Traceback (most recent call last)",
      "\u001b[0;32m<ipython-input-11-a088b17b45dd>\u001b[0m in \u001b[0;36m<module>\u001b[0;34m()\u001b[0m\n\u001b[1;32m      1\u001b[0m \u001b[0;31m# column names\u001b[0m\u001b[0;34m\u001b[0m\u001b[0;34m\u001b[0m\u001b[0m\n\u001b[0;32m----> 2\u001b[0;31m \u001b[0mactivity_df\u001b[0m\u001b[0;34m.\u001b[0m\u001b[0mcolumns\u001b[0m\u001b[0;34m\u001b[0m\u001b[0m\n\u001b[0m",
      "\u001b[0;31mNameError\u001b[0m: name 'activity_df' is not defined"
     ]
    }
   ],
   "source": [
    "# column names\n",
    "activity_df.columns"
   ]
  },
  {
   "cell_type": "code",
   "execution_count": 12,
   "metadata": {
    "collapsed": true
   },
   "outputs": [
    {
     "ename": "NameError",
     "evalue": "name 'activity_df' is not defined",
     "output_type": "error",
     "traceback": [
      "\u001b[0;31m---------------------------------------------------------------------------\u001b[0m",
      "\u001b[0;31mNameError\u001b[0m                                 Traceback (most recent call last)",
      "\u001b[0;32m<ipython-input-12-a64b3dfccd36>\u001b[0m in \u001b[0;36m<module>\u001b[0;34m()\u001b[0m\n\u001b[1;32m      1\u001b[0m \u001b[0;31m# print unique values\u001b[0m\u001b[0;34m\u001b[0m\u001b[0;34m\u001b[0m\u001b[0m\n\u001b[0;32m----> 2\u001b[0;31m \u001b[0;32mfor\u001b[0m \u001b[0mi\u001b[0m \u001b[0;32min\u001b[0m \u001b[0mactivity_df\u001b[0m\u001b[0;34m.\u001b[0m\u001b[0mcolumns\u001b[0m\u001b[0;34m:\u001b[0m\u001b[0;34m\u001b[0m\u001b[0m\n\u001b[0m\u001b[1;32m      3\u001b[0m     \u001b[0mprint\u001b[0m\u001b[0;34m(\u001b[0m\u001b[0mi\u001b[0m\u001b[0;34m)\u001b[0m\u001b[0;34m\u001b[0m\u001b[0m\n\u001b[1;32m      4\u001b[0m     \u001b[0mprint\u001b[0m\u001b[0;34m(\u001b[0m\u001b[0mactivity_df\u001b[0m\u001b[0;34m[\u001b[0m\u001b[0mi\u001b[0m\u001b[0;34m]\u001b[0m\u001b[0;34m.\u001b[0m\u001b[0munique\u001b[0m\u001b[0;34m(\u001b[0m\u001b[0;34m)\u001b[0m\u001b[0;34m)\u001b[0m\u001b[0;34m\u001b[0m\u001b[0m\n",
      "\u001b[0;31mNameError\u001b[0m: name 'activity_df' is not defined"
     ]
    }
   ],
   "source": [
    "# print unique values\n",
    "for i in activity_df.columns:\n",
    "    print(i)\n",
    "    print(activity_df[i].unique())"
   ]
  },
  {
   "cell_type": "code",
   "execution_count": 13,
   "metadata": {
    "collapsed": true
   },
   "outputs": [
    {
     "ename": "NameError",
     "evalue": "name 'activity_df' is not defined",
     "output_type": "error",
     "traceback": [
      "\u001b[0;31m---------------------------------------------------------------------------\u001b[0m",
      "\u001b[0;31mNameError\u001b[0m                                 Traceback (most recent call last)",
      "\u001b[0;32m<ipython-input-13-f77f59ae7f93>\u001b[0m in \u001b[0;36m<module>\u001b[0;34m()\u001b[0m\n\u001b[1;32m      1\u001b[0m \u001b[0;31m# get 4 useful columns\u001b[0m\u001b[0;34m\u001b[0m\u001b[0;34m\u001b[0m\u001b[0m\n\u001b[0;32m----> 2\u001b[0;31m \u001b[0mclean_activity\u001b[0m \u001b[0;34m=\u001b[0m \u001b[0mactivity_df\u001b[0m\u001b[0;34m[\u001b[0m\u001b[0;34m[\u001b[0m\u001b[0;34m\"YearStart\"\u001b[0m\u001b[0;34m,\u001b[0m\u001b[0;34m\"YearEnd\"\u001b[0m\u001b[0;34m,\u001b[0m\u001b[0;34m\"Data_Value\"\u001b[0m\u001b[0;34m,\u001b[0m \u001b[0;34m\"LocationDesc\"\u001b[0m\u001b[0;34m]\u001b[0m\u001b[0;34m]\u001b[0m\u001b[0;34m\u001b[0m\u001b[0m\n\u001b[0m",
      "\u001b[0;31mNameError\u001b[0m: name 'activity_df' is not defined"
     ]
    }
   ],
   "source": [
    "# get 4 useful columns\n",
    "clean_activity = activity_df[[\"YearStart\",\"YearEnd\",\"Data_Value\", \"LocationDesc\"]]"
   ]
  },
  {
   "cell_type": "code",
   "execution_count": 14,
   "metadata": {
    "collapsed": true
   },
   "outputs": [
    {
     "ename": "NameError",
     "evalue": "name 'clean_activity' is not defined",
     "output_type": "error",
     "traceback": [
      "\u001b[0;31m---------------------------------------------------------------------------\u001b[0m",
      "\u001b[0;31mNameError\u001b[0m                                 Traceback (most recent call last)",
      "\u001b[0;32m<ipython-input-14-4539bfeaac86>\u001b[0m in \u001b[0;36m<module>\u001b[0;34m()\u001b[0m\n\u001b[0;32m----> 1\u001b[0;31m \u001b[0mclean_activity\u001b[0m\u001b[0;34m.\u001b[0m\u001b[0mhead\u001b[0m\u001b[0;34m(\u001b[0m\u001b[0;34m)\u001b[0m\u001b[0;34m\u001b[0m\u001b[0m\n\u001b[0m",
      "\u001b[0;31mNameError\u001b[0m: name 'clean_activity' is not defined"
     ]
    }
   ],
   "source": [
    "clean_activity.head()"
   ]
  },
  {
   "cell_type": "code",
   "execution_count": 8,
   "metadata": {
    "collapsed": true
   },
   "outputs": [
    {
     "name": "stdout",
     "output_type": "stream",
     "text": [
      "<class 'numpy.int64'>\n",
      "<class 'numpy.int64'>\n",
      "<class 'numpy.float64'>\n",
      "<class 'str'>\n"
     ]
    }
   ],
   "source": [
    "# type of data in column\n",
    "for i in clean_activity.columns:\n",
    "    print(type(clean_activity[i][0]))"
   ]
  },
  {
   "cell_type": "code",
   "execution_count": 9,
   "metadata": {},
   "outputs": [],
   "source": [
    "# select rows where activity recorded in 2011\n",
    "activity_2011 = clean_activity.loc[clean_activity[\"YearStart\"] == 2011]"
   ]
  },
  {
   "cell_type": "code",
   "execution_count": 10,
   "metadata": {},
   "outputs": [],
   "source": [
    "# remove rows where state is Puerto Rico and National and Washington DC\n",
    "activity_2011 = activity_2011[activity_2011[\"LocationDesc\"] != \"Puerto Rico\"]\n",
    "activity_2011 = activity_2011[activity_2011[\"LocationDesc\"] != \"National\"]\n",
    "activity_2011 = activity_2011[activity_2011[\"LocationDesc\"] != \"District of Columbia\"]\n",
    "\n",
    "# select only the two important columns\n",
    "activity_2011 = activity_2011[[\"LocationDesc\", \"Data_Value\"]]"
   ]
  },
  {
   "cell_type": "code",
   "execution_count": 11,
   "metadata": {},
   "outputs": [],
   "source": [
    "# reset index\n",
    "activity_2011 = activity_2011.reset_index()"
   ]
  },
  {
   "cell_type": "code",
   "execution_count": 12,
   "metadata": {},
   "outputs": [],
   "source": [
    "# drop misc index label column\n",
    "activity_2011.drop(\"index\", 1, inplace = True)"
   ]
  },
  {
   "cell_type": "code",
   "execution_count": 13,
   "metadata": {},
   "outputs": [],
   "source": [
    "# cahnging column names\n",
    "activity_2011.columns = [\"State\", \"Value\"]"
   ]
  },
  {
   "cell_type": "code",
   "execution_count": 14,
   "metadata": {
    "collapsed": true
   },
   "outputs": [
    {
     "data": {
      "text/html": [
       "<div>\n",
       "<style scoped>\n",
       "    .dataframe tbody tr th:only-of-type {\n",
       "        vertical-align: middle;\n",
       "    }\n",
       "\n",
       "    .dataframe tbody tr th {\n",
       "        vertical-align: top;\n",
       "    }\n",
       "\n",
       "    .dataframe thead th {\n",
       "        text-align: right;\n",
       "    }\n",
       "</style>\n",
       "<table border=\"1\" class=\"dataframe\">\n",
       "  <thead>\n",
       "    <tr style=\"text-align: right;\">\n",
       "      <th></th>\n",
       "      <th>State</th>\n",
       "      <th>Value</th>\n",
       "    </tr>\n",
       "  </thead>\n",
       "  <tbody>\n",
       "    <tr>\n",
       "      <th>0</th>\n",
       "      <td>Alabama</td>\n",
       "      <td>1.2</td>\n",
       "    </tr>\n",
       "    <tr>\n",
       "      <th>1</th>\n",
       "      <td>Alaska</td>\n",
       "      <td>8.8</td>\n",
       "    </tr>\n",
       "    <tr>\n",
       "      <th>2</th>\n",
       "      <td>Arizona</td>\n",
       "      <td>3.0</td>\n",
       "    </tr>\n",
       "    <tr>\n",
       "      <th>3</th>\n",
       "      <td>Arkansas</td>\n",
       "      <td>1.9</td>\n",
       "    </tr>\n",
       "    <tr>\n",
       "      <th>4</th>\n",
       "      <td>California</td>\n",
       "      <td>3.8</td>\n",
       "    </tr>\n",
       "    <tr>\n",
       "      <th>5</th>\n",
       "      <td>Colorado</td>\n",
       "      <td>4.3</td>\n",
       "    </tr>\n",
       "    <tr>\n",
       "      <th>6</th>\n",
       "      <td>Connecticut</td>\n",
       "      <td>3.4</td>\n",
       "    </tr>\n",
       "    <tr>\n",
       "      <th>7</th>\n",
       "      <td>Delaware</td>\n",
       "      <td>2.5</td>\n",
       "    </tr>\n",
       "    <tr>\n",
       "      <th>8</th>\n",
       "      <td>Florida</td>\n",
       "      <td>2.2</td>\n",
       "    </tr>\n",
       "    <tr>\n",
       "      <th>9</th>\n",
       "      <td>Georgia</td>\n",
       "      <td>1.8</td>\n",
       "    </tr>\n",
       "    <tr>\n",
       "      <th>10</th>\n",
       "      <td>Hawaii</td>\n",
       "      <td>5.6</td>\n",
       "    </tr>\n",
       "    <tr>\n",
       "      <th>11</th>\n",
       "      <td>Idaho</td>\n",
       "      <td>4.0</td>\n",
       "    </tr>\n",
       "    <tr>\n",
       "      <th>12</th>\n",
       "      <td>Illinois</td>\n",
       "      <td>3.7</td>\n",
       "    </tr>\n",
       "    <tr>\n",
       "      <th>13</th>\n",
       "      <td>Indiana</td>\n",
       "      <td>2.6</td>\n",
       "    </tr>\n",
       "    <tr>\n",
       "      <th>14</th>\n",
       "      <td>Iowa</td>\n",
       "      <td>4.1</td>\n",
       "    </tr>\n",
       "    <tr>\n",
       "      <th>15</th>\n",
       "      <td>Kansas</td>\n",
       "      <td>2.7</td>\n",
       "    </tr>\n",
       "    <tr>\n",
       "      <th>16</th>\n",
       "      <td>Kentucky</td>\n",
       "      <td>2.6</td>\n",
       "    </tr>\n",
       "    <tr>\n",
       "      <th>17</th>\n",
       "      <td>Louisiana</td>\n",
       "      <td>2.4</td>\n",
       "    </tr>\n",
       "    <tr>\n",
       "      <th>18</th>\n",
       "      <td>Maine</td>\n",
       "      <td>4.4</td>\n",
       "    </tr>\n",
       "    <tr>\n",
       "      <th>19</th>\n",
       "      <td>Maryland</td>\n",
       "      <td>2.7</td>\n",
       "    </tr>\n",
       "    <tr>\n",
       "      <th>20</th>\n",
       "      <td>Massachusetts</td>\n",
       "      <td>5.6</td>\n",
       "    </tr>\n",
       "    <tr>\n",
       "      <th>21</th>\n",
       "      <td>Michigan</td>\n",
       "      <td>2.7</td>\n",
       "    </tr>\n",
       "    <tr>\n",
       "      <th>22</th>\n",
       "      <td>Minnesota</td>\n",
       "      <td>3.6</td>\n",
       "    </tr>\n",
       "    <tr>\n",
       "      <th>23</th>\n",
       "      <td>Mississippi</td>\n",
       "      <td>1.7</td>\n",
       "    </tr>\n",
       "    <tr>\n",
       "      <th>24</th>\n",
       "      <td>Missouri</td>\n",
       "      <td>2.2</td>\n",
       "    </tr>\n",
       "    <tr>\n",
       "      <th>25</th>\n",
       "      <td>Montana</td>\n",
       "      <td>6.3</td>\n",
       "    </tr>\n",
       "    <tr>\n",
       "      <th>26</th>\n",
       "      <td>Nebraska</td>\n",
       "      <td>3.3</td>\n",
       "    </tr>\n",
       "    <tr>\n",
       "      <th>27</th>\n",
       "      <td>Nevada</td>\n",
       "      <td>2.6</td>\n",
       "    </tr>\n",
       "    <tr>\n",
       "      <th>28</th>\n",
       "      <td>New Hampshire</td>\n",
       "      <td>3.1</td>\n",
       "    </tr>\n",
       "    <tr>\n",
       "      <th>29</th>\n",
       "      <td>New Jersey</td>\n",
       "      <td>3.4</td>\n",
       "    </tr>\n",
       "    <tr>\n",
       "      <th>30</th>\n",
       "      <td>New Mexico</td>\n",
       "      <td>3.0</td>\n",
       "    </tr>\n",
       "    <tr>\n",
       "      <th>31</th>\n",
       "      <td>New York</td>\n",
       "      <td>7.0</td>\n",
       "    </tr>\n",
       "    <tr>\n",
       "      <th>32</th>\n",
       "      <td>North Carolina</td>\n",
       "      <td>2.0</td>\n",
       "    </tr>\n",
       "    <tr>\n",
       "      <th>33</th>\n",
       "      <td>North Dakota</td>\n",
       "      <td>4.3</td>\n",
       "    </tr>\n",
       "    <tr>\n",
       "      <th>34</th>\n",
       "      <td>Ohio</td>\n",
       "      <td>2.6</td>\n",
       "    </tr>\n",
       "    <tr>\n",
       "      <th>35</th>\n",
       "      <td>Oklahoma</td>\n",
       "      <td>2.0</td>\n",
       "    </tr>\n",
       "    <tr>\n",
       "      <th>36</th>\n",
       "      <td>Oregon</td>\n",
       "      <td>6.4</td>\n",
       "    </tr>\n",
       "    <tr>\n",
       "      <th>37</th>\n",
       "      <td>Pennsylvania</td>\n",
       "      <td>4.4</td>\n",
       "    </tr>\n",
       "    <tr>\n",
       "      <th>38</th>\n",
       "      <td>Rhode Island</td>\n",
       "      <td>4.1</td>\n",
       "    </tr>\n",
       "    <tr>\n",
       "      <th>39</th>\n",
       "      <td>South Carolina</td>\n",
       "      <td>2.6</td>\n",
       "    </tr>\n",
       "    <tr>\n",
       "      <th>40</th>\n",
       "      <td>South Dakota</td>\n",
       "      <td>4.5</td>\n",
       "    </tr>\n",
       "    <tr>\n",
       "      <th>41</th>\n",
       "      <td>Tennessee</td>\n",
       "      <td>1.5</td>\n",
       "    </tr>\n",
       "    <tr>\n",
       "      <th>42</th>\n",
       "      <td>Texas</td>\n",
       "      <td>1.9</td>\n",
       "    </tr>\n",
       "    <tr>\n",
       "      <th>43</th>\n",
       "      <td>Utah</td>\n",
       "      <td>3.4</td>\n",
       "    </tr>\n",
       "    <tr>\n",
       "      <th>44</th>\n",
       "      <td>Vermont</td>\n",
       "      <td>6.6</td>\n",
       "    </tr>\n",
       "    <tr>\n",
       "      <th>45</th>\n",
       "      <td>Virginia</td>\n",
       "      <td>2.7</td>\n",
       "    </tr>\n",
       "    <tr>\n",
       "      <th>46</th>\n",
       "      <td>Washington</td>\n",
       "      <td>4.4</td>\n",
       "    </tr>\n",
       "    <tr>\n",
       "      <th>47</th>\n",
       "      <td>West Virginia</td>\n",
       "      <td>2.9</td>\n",
       "    </tr>\n",
       "    <tr>\n",
       "      <th>48</th>\n",
       "      <td>Wisconsin</td>\n",
       "      <td>4.1</td>\n",
       "    </tr>\n",
       "    <tr>\n",
       "      <th>49</th>\n",
       "      <td>Wyoming</td>\n",
       "      <td>4.7</td>\n",
       "    </tr>\n",
       "  </tbody>\n",
       "</table>\n",
       "</div>"
      ],
      "text/plain": [
       "             State  Value\n",
       "0          Alabama    1.2\n",
       "1           Alaska    8.8\n",
       "2          Arizona    3.0\n",
       "3         Arkansas    1.9\n",
       "4       California    3.8\n",
       "5         Colorado    4.3\n",
       "6      Connecticut    3.4\n",
       "7         Delaware    2.5\n",
       "8          Florida    2.2\n",
       "9          Georgia    1.8\n",
       "10          Hawaii    5.6\n",
       "11           Idaho    4.0\n",
       "12        Illinois    3.7\n",
       "13         Indiana    2.6\n",
       "14            Iowa    4.1\n",
       "15          Kansas    2.7\n",
       "16        Kentucky    2.6\n",
       "17       Louisiana    2.4\n",
       "18           Maine    4.4\n",
       "19        Maryland    2.7\n",
       "20   Massachusetts    5.6\n",
       "21        Michigan    2.7\n",
       "22       Minnesota    3.6\n",
       "23     Mississippi    1.7\n",
       "24        Missouri    2.2\n",
       "25         Montana    6.3\n",
       "26        Nebraska    3.3\n",
       "27          Nevada    2.6\n",
       "28   New Hampshire    3.1\n",
       "29      New Jersey    3.4\n",
       "30      New Mexico    3.0\n",
       "31        New York    7.0\n",
       "32  North Carolina    2.0\n",
       "33    North Dakota    4.3\n",
       "34            Ohio    2.6\n",
       "35        Oklahoma    2.0\n",
       "36          Oregon    6.4\n",
       "37    Pennsylvania    4.4\n",
       "38    Rhode Island    4.1\n",
       "39  South Carolina    2.6\n",
       "40    South Dakota    4.5\n",
       "41       Tennessee    1.5\n",
       "42           Texas    1.9\n",
       "43            Utah    3.4\n",
       "44         Vermont    6.6\n",
       "45        Virginia    2.7\n",
       "46      Washington    4.4\n",
       "47   West Virginia    2.9\n",
       "48       Wisconsin    4.1\n",
       "49         Wyoming    4.7"
      ]
     },
     "execution_count": 14,
     "metadata": {},
     "output_type": "execute_result"
    }
   ],
   "source": [
    "activity_2011"
   ]
  },
  {
   "cell_type": "markdown",
   "metadata": {},
   "source": [
    "### Cleaning the disease dataframe"
   ]
  },
  {
   "cell_type": "code",
   "execution_count": 15,
   "metadata": {
    "collapsed": true
   },
   "outputs": [
    {
     "data": {
      "text/html": [
       "<div>\n",
       "<style scoped>\n",
       "    .dataframe tbody tr th:only-of-type {\n",
       "        vertical-align: middle;\n",
       "    }\n",
       "\n",
       "    .dataframe tbody tr th {\n",
       "        vertical-align: top;\n",
       "    }\n",
       "\n",
       "    .dataframe thead th {\n",
       "        text-align: right;\n",
       "    }\n",
       "</style>\n",
       "<table border=\"1\" class=\"dataframe\">\n",
       "  <thead>\n",
       "    <tr style=\"text-align: right;\">\n",
       "      <th></th>\n",
       "      <th>Year</th>\n",
       "      <th>LocationAbbr</th>\n",
       "      <th>LocationDesc</th>\n",
       "      <th>Datasource</th>\n",
       "      <th>PriorityArea1</th>\n",
       "      <th>PriorityArea2</th>\n",
       "      <th>PriorityArea3</th>\n",
       "      <th>PriorityArea4</th>\n",
       "      <th>Category</th>\n",
       "      <th>Topic</th>\n",
       "      <th>...</th>\n",
       "      <th>Break_Out_Category</th>\n",
       "      <th>Break_out</th>\n",
       "      <th>CategoryID</th>\n",
       "      <th>TopicID</th>\n",
       "      <th>IndicatorID</th>\n",
       "      <th>Data_Value_TypeID</th>\n",
       "      <th>BreakoutCategoryID</th>\n",
       "      <th>BreakOutID</th>\n",
       "      <th>LocationID</th>\n",
       "      <th>GeoLocation</th>\n",
       "    </tr>\n",
       "  </thead>\n",
       "  <tbody>\n",
       "    <tr>\n",
       "      <th>0</th>\n",
       "      <td>2011</td>\n",
       "      <td>AL</td>\n",
       "      <td>Alabama</td>\n",
       "      <td>BRFSS</td>\n",
       "      <td>None</td>\n",
       "      <td>None</td>\n",
       "      <td>None</td>\n",
       "      <td>None</td>\n",
       "      <td>Cardiovascular Diseases</td>\n",
       "      <td>Major Cardiovascular Disease</td>\n",
       "      <td>...</td>\n",
       "      <td>Overall</td>\n",
       "      <td>Overall</td>\n",
       "      <td>C1</td>\n",
       "      <td>T1</td>\n",
       "      <td>BR001</td>\n",
       "      <td>AgeStdz</td>\n",
       "      <td>BOC01</td>\n",
       "      <td>OVR01</td>\n",
       "      <td>1</td>\n",
       "      <td>(32.84057112200048, -86.63186076199969)</td>\n",
       "    </tr>\n",
       "    <tr>\n",
       "      <th>1</th>\n",
       "      <td>2011</td>\n",
       "      <td>AL</td>\n",
       "      <td>Alabama</td>\n",
       "      <td>BRFSS</td>\n",
       "      <td>None</td>\n",
       "      <td>None</td>\n",
       "      <td>None</td>\n",
       "      <td>None</td>\n",
       "      <td>Cardiovascular Diseases</td>\n",
       "      <td>Major Cardiovascular Disease</td>\n",
       "      <td>...</td>\n",
       "      <td>Overall</td>\n",
       "      <td>Overall</td>\n",
       "      <td>C1</td>\n",
       "      <td>T1</td>\n",
       "      <td>BR001</td>\n",
       "      <td>Crude</td>\n",
       "      <td>BOC01</td>\n",
       "      <td>OVR01</td>\n",
       "      <td>1</td>\n",
       "      <td>(32.84057112200048, -86.63186076199969)</td>\n",
       "    </tr>\n",
       "    <tr>\n",
       "      <th>2</th>\n",
       "      <td>2011</td>\n",
       "      <td>AL</td>\n",
       "      <td>Alabama</td>\n",
       "      <td>BRFSS</td>\n",
       "      <td>None</td>\n",
       "      <td>None</td>\n",
       "      <td>None</td>\n",
       "      <td>None</td>\n",
       "      <td>Cardiovascular Diseases</td>\n",
       "      <td>Major Cardiovascular Disease</td>\n",
       "      <td>...</td>\n",
       "      <td>Gender</td>\n",
       "      <td>Male</td>\n",
       "      <td>C1</td>\n",
       "      <td>T1</td>\n",
       "      <td>BR001</td>\n",
       "      <td>Crude</td>\n",
       "      <td>BOC02</td>\n",
       "      <td>GEN01</td>\n",
       "      <td>1</td>\n",
       "      <td>(32.84057112200048, -86.63186076199969)</td>\n",
       "    </tr>\n",
       "    <tr>\n",
       "      <th>3</th>\n",
       "      <td>2011</td>\n",
       "      <td>AL</td>\n",
       "      <td>Alabama</td>\n",
       "      <td>BRFSS</td>\n",
       "      <td>None</td>\n",
       "      <td>None</td>\n",
       "      <td>None</td>\n",
       "      <td>None</td>\n",
       "      <td>Cardiovascular Diseases</td>\n",
       "      <td>Major Cardiovascular Disease</td>\n",
       "      <td>...</td>\n",
       "      <td>Gender</td>\n",
       "      <td>Male</td>\n",
       "      <td>C1</td>\n",
       "      <td>T1</td>\n",
       "      <td>BR001</td>\n",
       "      <td>AgeStdz</td>\n",
       "      <td>BOC02</td>\n",
       "      <td>GEN01</td>\n",
       "      <td>1</td>\n",
       "      <td>(32.84057112200048, -86.63186076199969)</td>\n",
       "    </tr>\n",
       "    <tr>\n",
       "      <th>4</th>\n",
       "      <td>2011</td>\n",
       "      <td>AL</td>\n",
       "      <td>Alabama</td>\n",
       "      <td>BRFSS</td>\n",
       "      <td>None</td>\n",
       "      <td>None</td>\n",
       "      <td>None</td>\n",
       "      <td>None</td>\n",
       "      <td>Cardiovascular Diseases</td>\n",
       "      <td>Major Cardiovascular Disease</td>\n",
       "      <td>...</td>\n",
       "      <td>Gender</td>\n",
       "      <td>Female</td>\n",
       "      <td>C1</td>\n",
       "      <td>T1</td>\n",
       "      <td>BR001</td>\n",
       "      <td>AgeStdz</td>\n",
       "      <td>BOC02</td>\n",
       "      <td>GEN02</td>\n",
       "      <td>1</td>\n",
       "      <td>(32.84057112200048, -86.63186076199969)</td>\n",
       "    </tr>\n",
       "  </tbody>\n",
       "</table>\n",
       "<p>5 rows × 29 columns</p>\n",
       "</div>"
      ],
      "text/plain": [
       "   Year LocationAbbr LocationDesc Datasource PriorityArea1 PriorityArea2  \\\n",
       "0  2011           AL      Alabama      BRFSS          None          None   \n",
       "1  2011           AL      Alabama      BRFSS          None          None   \n",
       "2  2011           AL      Alabama      BRFSS          None          None   \n",
       "3  2011           AL      Alabama      BRFSS          None          None   \n",
       "4  2011           AL      Alabama      BRFSS          None          None   \n",
       "\n",
       "  PriorityArea3 PriorityArea4                 Category  \\\n",
       "0          None          None  Cardiovascular Diseases   \n",
       "1          None          None  Cardiovascular Diseases   \n",
       "2          None          None  Cardiovascular Diseases   \n",
       "3          None          None  Cardiovascular Diseases   \n",
       "4          None          None  Cardiovascular Diseases   \n",
       "\n",
       "                          Topic                   ...                     \\\n",
       "0  Major Cardiovascular Disease                   ...                      \n",
       "1  Major Cardiovascular Disease                   ...                      \n",
       "2  Major Cardiovascular Disease                   ...                      \n",
       "3  Major Cardiovascular Disease                   ...                      \n",
       "4  Major Cardiovascular Disease                   ...                      \n",
       "\n",
       "  Break_Out_Category Break_out CategoryID  TopicID  IndicatorID  \\\n",
       "0            Overall   Overall         C1       T1        BR001   \n",
       "1            Overall   Overall         C1       T1        BR001   \n",
       "2             Gender      Male         C1       T1        BR001   \n",
       "3             Gender      Male         C1       T1        BR001   \n",
       "4             Gender    Female         C1       T1        BR001   \n",
       "\n",
       "  Data_Value_TypeID BreakoutCategoryID  BreakOutID  LocationID  \\\n",
       "0           AgeStdz              BOC01       OVR01           1   \n",
       "1             Crude              BOC01       OVR01           1   \n",
       "2             Crude              BOC02       GEN01           1   \n",
       "3           AgeStdz              BOC02       GEN01           1   \n",
       "4           AgeStdz              BOC02       GEN02           1   \n",
       "\n",
       "                               GeoLocation  \n",
       "0  (32.84057112200048, -86.63186076199969)  \n",
       "1  (32.84057112200048, -86.63186076199969)  \n",
       "2  (32.84057112200048, -86.63186076199969)  \n",
       "3  (32.84057112200048, -86.63186076199969)  \n",
       "4  (32.84057112200048, -86.63186076199969)  \n",
       "\n",
       "[5 rows x 29 columns]"
      ]
     },
     "execution_count": 15,
     "metadata": {},
     "output_type": "execute_result"
    }
   ],
   "source": [
    "disease_df.head()"
   ]
  },
  {
   "cell_type": "code",
   "execution_count": 16,
   "metadata": {
    "collapsed": true
   },
   "outputs": [
    {
     "data": {
      "text/plain": [
       "(85800, 29)"
      ]
     },
     "execution_count": 16,
     "metadata": {},
     "output_type": "execute_result"
    }
   ],
   "source": [
    "# disease shape\n",
    "disease_df.shape"
   ]
  },
  {
   "cell_type": "code",
   "execution_count": 17,
   "metadata": {
    "collapsed": true
   },
   "outputs": [
    {
     "name": "stdout",
     "output_type": "stream",
     "text": [
      "Category column unique values: ['Cardiovascular Diseases' 'Risk Factors']\n",
      "Topic column unique values: ['Major Cardiovascular Disease' 'Stroke' 'Diabetes'\n",
      " 'Acute Myocardial Infarction (Heart Attack)' 'Coronary Heart Disease'\n",
      " 'Cholesterol Abnormalities' 'Nutrition' 'Obesity' 'Smoking'\n",
      " 'Physical Inactivity' 'Hypertension']\n"
     ]
    }
   ],
   "source": [
    "# unique values of category column\n",
    "print(\"Category column unique values:\", disease_df[\"Category\"].unique())\n",
    "# unique values of topic column\n",
    "print(\"Topic column unique values:\", disease_df[\"Topic\"].unique())"
   ]
  },
  {
   "cell_type": "code",
   "execution_count": 18,
   "metadata": {},
   "outputs": [],
   "source": [
    "# rows where category equal to cardiovascular diseases\n",
    "cd = disease_df.loc[disease_df[\"Category\"] == 'Cardiovascular Diseases']\n",
    "# rows where topic equal to major cardiovascular disease\n",
    "mcd = cd.loc[cd[\"Topic\"] == 'Major Cardiovascular Disease']"
   ]
  },
  {
   "cell_type": "code",
   "execution_count": 19,
   "metadata": {},
   "outputs": [],
   "source": [
    "mcd = mcd[mcd[\"Year\"] == 2011]"
   ]
  },
  {
   "cell_type": "code",
   "execution_count": 20,
   "metadata": {
    "collapsed": true
   },
   "outputs": [
    {
     "data": {
      "text/plain": [
       "(1144, 29)"
      ]
     },
     "execution_count": 20,
     "metadata": {},
     "output_type": "execute_result"
    }
   ],
   "source": [
    "# shape of mcd dataframe\n",
    "mcd.shape"
   ]
  },
  {
   "cell_type": "code",
   "execution_count": 21,
   "metadata": {
    "collapsed": true
   },
   "outputs": [
    {
     "data": {
      "text/plain": [
       "Index(['Year', 'LocationAbbr', 'LocationDesc', 'Datasource', 'PriorityArea1',\n",
       "       'PriorityArea2', 'PriorityArea3', 'PriorityArea4', 'Category', 'Topic',\n",
       "       'Indicator', 'Data_Value_Type', 'Data_Value_Unit', 'Data_Value',\n",
       "       'Data_Value_Alt', 'Data_Value_Footnote_Symbol', 'Data_Value_Footnote',\n",
       "       'Confidence_Limit_Low', 'Confidence_Limit_High', 'Break_Out_Category',\n",
       "       'Break_out', 'CategoryID', 'TopicID', 'IndicatorID',\n",
       "       'Data_Value_TypeID', 'BreakoutCategoryID', 'BreakOutID', 'LocationID',\n",
       "       'GeoLocation'],\n",
       "      dtype='object')"
      ]
     },
     "execution_count": 21,
     "metadata": {},
     "output_type": "execute_result"
    }
   ],
   "source": [
    "# column names\n",
    "mcd.columns"
   ]
  },
  {
   "cell_type": "code",
   "execution_count": 22,
   "metadata": {
    "collapsed": true
   },
   "outputs": [
    {
     "name": "stdout",
     "output_type": "stream",
     "text": [
      "Value unit: ['Percent (%)']\n",
      "Data Value Types: ['Age-Standardized' 'Crude']\n"
     ]
    }
   ],
   "source": [
    "# value unit used\n",
    "print(\"Value unit:\", mcd[\"Data_Value_Unit\"].unique())\n",
    "print(\"Data Value Types:\", mcd[\"Data_Value_Type\"].unique())"
   ]
  },
  {
   "cell_type": "code",
   "execution_count": 23,
   "metadata": {},
   "outputs": [],
   "source": [
    "# select rows where value type is crude\n",
    "mcd_crude = mcd.loc[mcd[\"Data_Value_Type\"] == 'Crude']\n",
    "# select rows where break out category is overall\n",
    "mcd_crude = mcd_crude.loc[mcd[\"Break_Out_Category\"] == 'Overall']"
   ]
  },
  {
   "cell_type": "code",
   "execution_count": 24,
   "metadata": {},
   "outputs": [],
   "source": [
    "# selecting useful columns \n",
    "mcd_clean = mcd_crude[[\"Year\", \"LocationDesc\", \"Data_Value\"]]"
   ]
  },
  {
   "cell_type": "code",
   "execution_count": 25,
   "metadata": {},
   "outputs": [],
   "source": [
    "# remove rows with median of all states\n",
    "mcd_clean = mcd_clean.loc[mcd_clean[\"LocationDesc\"] != \"Median of all states\"]\n",
    "# removing washington DC \n",
    "mcd_clean = mcd_clean.loc[mcd_clean[\"LocationDesc\"] != \"Washington, DC\"]"
   ]
  },
  {
   "cell_type": "code",
   "execution_count": 26,
   "metadata": {},
   "outputs": [],
   "source": [
    "# change column names\n",
    "mcd_clean.columns = [\"Year\", \"State\", \"Value\"]"
   ]
  },
  {
   "cell_type": "code",
   "execution_count": 2,
   "metadata": {
    "collapsed": true
   },
   "outputs": [
    {
     "ename": "NameError",
     "evalue": "name 'mcd_clean' is not defined",
     "output_type": "error",
     "traceback": [
      "\u001b[0;31m---------------------------------------------------------------------------\u001b[0m",
      "\u001b[0;31mNameError\u001b[0m                                 Traceback (most recent call last)",
      "\u001b[0;32m<ipython-input-2-9177b3af4e7a>\u001b[0m in \u001b[0;36m<module>\u001b[0;34m()\u001b[0m\n\u001b[1;32m      1\u001b[0m \u001b[0;31m# reset index\u001b[0m\u001b[0;34m\u001b[0m\u001b[0;34m\u001b[0m\u001b[0m\n\u001b[0;32m----> 2\u001b[0;31m \u001b[0mmcd_clean\u001b[0m \u001b[0;34m=\u001b[0m \u001b[0mmcd_clean\u001b[0m\u001b[0;34m.\u001b[0m\u001b[0mreset_index\u001b[0m\u001b[0;34m(\u001b[0m\u001b[0;34m)\u001b[0m\u001b[0;34m\u001b[0m\u001b[0m\n\u001b[0m",
      "\u001b[0;31mNameError\u001b[0m: name 'mcd_clean' is not defined"
     ]
    }
   ],
   "source": [
    "# reset index\n",
    "mcd_clean = mcd_clean.reset_index()"
   ]
  },
  {
   "cell_type": "code",
   "execution_count": 3,
   "metadata": {
    "collapsed": true
   },
   "outputs": [
    {
     "ename": "NameError",
     "evalue": "name 'mcd_clean' is not defined",
     "output_type": "error",
     "traceback": [
      "\u001b[0;31m---------------------------------------------------------------------------\u001b[0m",
      "\u001b[0;31mNameError\u001b[0m                                 Traceback (most recent call last)",
      "\u001b[0;32m<ipython-input-3-2bd9a8c7848b>\u001b[0m in \u001b[0;36m<module>\u001b[0;34m()\u001b[0m\n\u001b[1;32m      1\u001b[0m \u001b[0;31m# drop misc index column\u001b[0m\u001b[0;34m\u001b[0m\u001b[0;34m\u001b[0m\u001b[0m\n\u001b[0;32m----> 2\u001b[0;31m \u001b[0mmcd_clean\u001b[0m\u001b[0;34m.\u001b[0m\u001b[0mdrop\u001b[0m\u001b[0;34m(\u001b[0m\u001b[0;34m\"index\"\u001b[0m\u001b[0;34m,\u001b[0m \u001b[0;36m1\u001b[0m\u001b[0;34m,\u001b[0m \u001b[0minplace\u001b[0m \u001b[0;34m=\u001b[0m \u001b[0;32mTrue\u001b[0m\u001b[0;34m)\u001b[0m\u001b[0;34m\u001b[0m\u001b[0m\n\u001b[0m",
      "\u001b[0;31mNameError\u001b[0m: name 'mcd_clean' is not defined"
     ]
    }
   ],
   "source": [
    "# drop misc index column\n",
    "mcd_clean.drop(\"index\", 1, inplace = True)"
   ]
  },
  {
   "cell_type": "code",
   "execution_count": 4,
   "metadata": {
    "collapsed": true
   },
   "outputs": [
    {
     "ename": "NameError",
     "evalue": "name 'mcd_clean' is not defined",
     "output_type": "error",
     "traceback": [
      "\u001b[0;31m---------------------------------------------------------------------------\u001b[0m",
      "\u001b[0;31mNameError\u001b[0m                                 Traceback (most recent call last)",
      "\u001b[0;32m<ipython-input-4-5c33fb771235>\u001b[0m in \u001b[0;36m<module>\u001b[0;34m()\u001b[0m\n\u001b[1;32m      1\u001b[0m \u001b[0;31m# we are going to group by states and average across them\u001b[0m\u001b[0;34m\u001b[0m\u001b[0;34m\u001b[0m\u001b[0m\n\u001b[0;32m----> 2\u001b[0;31m \u001b[0mmcd_df\u001b[0m \u001b[0;34m=\u001b[0m \u001b[0mmcd_clean\u001b[0m\u001b[0;34m.\u001b[0m\u001b[0mgroupby\u001b[0m\u001b[0;34m(\u001b[0m\u001b[0;34m[\u001b[0m\u001b[0;34m\"State\"\u001b[0m\u001b[0;34m]\u001b[0m\u001b[0;34m)\u001b[0m\u001b[0;34m.\u001b[0m\u001b[0mmean\u001b[0m\u001b[0;34m(\u001b[0m\u001b[0;34m)\u001b[0m\u001b[0;34m.\u001b[0m\u001b[0mreset_index\u001b[0m\u001b[0;34m(\u001b[0m\u001b[0;34m)\u001b[0m\u001b[0;34m\u001b[0m\u001b[0m\n\u001b[0m\u001b[1;32m      3\u001b[0m \u001b[0mmcd_df\u001b[0m\u001b[0;34m.\u001b[0m\u001b[0mdrop\u001b[0m\u001b[0;34m(\u001b[0m\u001b[0;34m[\u001b[0m\u001b[0;34m\"Year\"\u001b[0m\u001b[0;34m]\u001b[0m\u001b[0;34m,\u001b[0m \u001b[0;36m1\u001b[0m\u001b[0;34m,\u001b[0m \u001b[0minplace\u001b[0m \u001b[0;34m=\u001b[0m \u001b[0;32mTrue\u001b[0m\u001b[0;34m)\u001b[0m\u001b[0;34m\u001b[0m\u001b[0m\n",
      "\u001b[0;31mNameError\u001b[0m: name 'mcd_clean' is not defined"
     ]
    }
   ],
   "source": [
    "# we are going to group by states and average across them\n",
    "mcd_df = mcd_clean.groupby([\"State\"]).mean().reset_index()\n",
    "mcd_df.drop([\"Year\"], 1, inplace = True)"
   ]
  },
  {
   "cell_type": "code",
   "execution_count": 1,
   "metadata": {
    "collapsed": true
   },
   "outputs": [
    {
     "ename": "NameError",
     "evalue": "name 'mcd_df' is not defined",
     "output_type": "error",
     "traceback": [
      "\u001b[0;31m---------------------------------------------------------------------------\u001b[0m",
      "\u001b[0;31mNameError\u001b[0m                                 Traceback (most recent call last)",
      "\u001b[0;32m<ipython-input-1-269f997d55f2>\u001b[0m in \u001b[0;36m<module>\u001b[0;34m()\u001b[0m\n\u001b[0;32m----> 1\u001b[0;31m \u001b[0mmcd_df\u001b[0m\u001b[0;34m.\u001b[0m\u001b[0mhead\u001b[0m\u001b[0;34m(\u001b[0m\u001b[0;34m)\u001b[0m\u001b[0;34m\u001b[0m\u001b[0m\n\u001b[0m",
      "\u001b[0;31mNameError\u001b[0m: name 'mcd_df' is not defined"
     ]
    }
   ],
   "source": [
    "mcd_df.head()"
   ]
  },
  {
   "cell_type": "markdown",
   "metadata": {},
   "source": [
    "## Question 1)\n",
    "\n",
    "## Which state has the highest percentage of people who walk or ride their bike to work? "
   ]
  },
  {
   "cell_type": "code",
   "execution_count": 31,
   "metadata": {
    "collapsed": true
   },
   "outputs": [
    {
     "data": {
      "text/html": [
       "<div>\n",
       "<style scoped>\n",
       "    .dataframe tbody tr th:only-of-type {\n",
       "        vertical-align: middle;\n",
       "    }\n",
       "\n",
       "    .dataframe tbody tr th {\n",
       "        vertical-align: top;\n",
       "    }\n",
       "\n",
       "    .dataframe thead th {\n",
       "        text-align: right;\n",
       "    }\n",
       "</style>\n",
       "<table border=\"1\" class=\"dataframe\">\n",
       "  <thead>\n",
       "    <tr style=\"text-align: right;\">\n",
       "      <th></th>\n",
       "      <th>State</th>\n",
       "      <th>Value</th>\n",
       "    </tr>\n",
       "  </thead>\n",
       "  <tbody>\n",
       "    <tr>\n",
       "      <th>1</th>\n",
       "      <td>Alaska</td>\n",
       "      <td>8.8</td>\n",
       "    </tr>\n",
       "  </tbody>\n",
       "</table>\n",
       "</div>"
      ],
      "text/plain": [
       "    State  Value\n",
       "1  Alaska    8.8"
      ]
     },
     "execution_count": 31,
     "metadata": {},
     "output_type": "execute_result"
    }
   ],
   "source": [
    "activity_2011.sort_values(\"Value\", ascending=False).head(1)"
   ]
  },
  {
   "cell_type": "markdown",
   "metadata": {},
   "source": [
    "Once we cleaned the data and ended up with a table including the state and the percentage of people who walk or ride their bike to work, we sorted the states by value and found the state with the highest percentage is Alaska."
   ]
  },
  {
   "cell_type": "markdown",
   "metadata": {},
   "source": [
    "## Question 2)"
   ]
  },
  {
   "cell_type": "markdown",
   "metadata": {},
   "source": [
    "## Is there an association between physical activity and the prevalence of cardiovascular disease?"
   ]
  },
  {
   "cell_type": "code",
   "execution_count": 34,
   "metadata": {},
   "outputs": [],
   "source": [
    "# joining the two dataframes\n",
    "joined_df = activity_2011\n",
    "joined_df[\"mcd_rate\"] = mcd_df[\"Value\"]\n",
    "joined_df.columns = [\"State\", \"activity_rate\", \"mcd_rate\"]"
   ]
  },
  {
   "cell_type": "code",
   "execution_count": 35,
   "metadata": {
    "collapsed": true
   },
   "outputs": [
    {
     "data": {
      "text/plain": [
       "<matplotlib.text.Text at 0x114f8b4e0>"
      ]
     },
     "execution_count": 35,
     "metadata": {},
     "output_type": "execute_result"
    },
    {
     "data": {
      "image/png": "[encoded data removed]",
      "text/plain": [
       "<matplotlib.figure.Figure at 0x11386aa90>"
      ]
     },
     "metadata": {},
     "output_type": "display_data"
    }
   ],
   "source": [
    "# plotting\n",
    "plt.figure(figsize = (12,6))\n",
    "plt.scatter(x=joined_df[\"activity_rate\"], y=joined_df[\"mcd_rate\"])\n",
    "plt.title(\"Cardio Vascular Disease vs Activity Rate\", size = 15)\n",
    "plt.xlabel(\"Activity Rate (%)\", size = 13)\n",
    "plt.ylabel(\"Cardio Vascular Disease (%)\", size = 13)"
   ]
  },
  {
   "cell_type": "markdown",
   "metadata": {},
   "source": [
    "We can see from the chart that there seems to be some negative association between CVD rate and Activity Rate. Now we shall test for significance."
   ]
  },
  {
   "cell_type": "markdown",
   "metadata": {},
   "source": [
    "### Testing for significant linear correlation between CVD Rate and Activity Rate: \n",
    "\n",
    "Our assumptions:\n",
    "- There is an absence of outliers.\n",
    "- Variables are normally distributed.\n",
    "- There is a relationship.\n",
    "- Homoskedasticity (although this may slightly contentious on first inspection)"
   ]
  },
  {
   "cell_type": "markdown",
   "metadata": {},
   "source": [
    "**Null Hypothesis:** There is no association between activity rate and cardio vascular disease.\n",
    "\n",
    "**Alternative Hypothesis:** There is some association between activity rate and carido vascular disease."
   ]
  },
  {
   "cell_type": "code",
   "execution_count": 36,
   "metadata": {},
   "outputs": [],
   "source": [
    "from scipy.stats import pearsonr"
   ]
  },
  {
   "cell_type": "code",
   "execution_count": 37,
   "metadata": {
    "collapsed": true
   },
   "outputs": [
    {
     "name": "stdout",
     "output_type": "stream",
     "text": [
      "The correlation coefficient is -0.5711487594735796\n",
      "The p-value is 1.4806272243773362e-05\n"
     ]
    }
   ],
   "source": [
    "test = pearsonr(joined_df[\"activity_rate\"], joined_df[\"mcd_rate\"])\n",
    "print(\"The correlation coefficient is\", test[0])\n",
    "print(\"The p-value is\", test[1])"
   ]
  },
  {
   "cell_type": "markdown",
   "metadata": {},
   "source": [
    "The p-value is extremely small. Even with a very small significance level, we can reject the null hypothesis. That is, **there is sufficient evidence to suggest that there is some association between the CVD rate and Activity rate.**"
   ]
  },
  {
   "cell_type": "markdown",
   "metadata": {},
   "source": [
    "To answer question 2, we performed a hypothesis test on the data from both datasets (The physical activity in each state and the prominence of heart disease). The scatterplot shows a negative association which suggests that there is less cardiovascular disease where more people engage in physical activity. "
   ]
  },
  {
   "cell_type": "markdown",
   "metadata": {
    "collapsed": true
   },
   "source": [
    "## Question 3)"
   ]
  },
  {
   "cell_type": "markdown",
   "metadata": {},
   "source": [
    "## Can we predict the area of the US that a place is in given its characteristics of risk factors? "
   ]
  },
  {
   "cell_type": "markdown",
   "metadata": {},
   "source": [
    "First we must clean the location column, and group them into larger areas."
   ]
  },
  {
   "cell_type": "code",
   "execution_count": 38,
   "metadata": {},
   "outputs": [],
   "source": [
    "# only include 2011 values\n",
    "disease_2011 = disease_df[disease_df[\"Year\"] == 2011]"
   ]
  },
  {
   "cell_type": "code",
   "execution_count": 39,
   "metadata": {
    "collapsed": true
   },
   "outputs": [
    {
     "data": {
      "text/plain": [
       "array(['Major Cardiovascular Disease', 'Stroke', 'Diabetes',\n",
       "       'Acute Myocardial Infarction (Heart Attack)',\n",
       "       'Coronary Heart Disease', 'Cholesterol Abnormalities', 'Nutrition',\n",
       "       'Obesity', 'Smoking', 'Physical Inactivity', 'Hypertension'],\n",
       "      dtype=object)"
      ]
     },
     "execution_count": 39,
     "metadata": {},
     "output_type": "execute_result"
    }
   ],
   "source": [
    "disease_df[\"Topic\"].unique()"
   ]
  },
  {
   "cell_type": "code",
   "execution_count": 52,
   "metadata": {},
   "outputs": [],
   "source": [
    "# remove median locationdesc\n",
    "disease_2011 = disease_2011[disease_2011[\"LocationDesc\"] != \"Median of all states\"]\n",
    "\n",
    "# only include age standardised values \n",
    "disease_2011 = disease_2011[disease_2011[\"Data_Value_TypeID\"] == \"AgeStdz\"]"
   ]
  },
  {
   "cell_type": "markdown",
   "metadata": {},
   "source": [
    "## Create area target variable "
   ]
  },
  {
   "cell_type": "code",
   "execution_count": 53,
   "metadata": {
    "collapsed": true
   },
   "outputs": [
    {
     "name": "stderr",
     "output_type": "stream",
     "text": [
      "/anaconda/lib/python3.6/site-packages/ipykernel_launcher.py:3: FutureWarning: currently extract(expand=None) means expand=False (return Index/Series/DataFrame) but in a future version of pandas this will be changed to expand=True (return DataFrame)\n",
      "  This is separate from the ipykernel package so we can avoid doing imports until\n",
      "/anaconda/lib/python3.6/site-packages/ipykernel_launcher.py:4: FutureWarning: currently extract(expand=None) means expand=False (return Index/Series/DataFrame) but in a future version of pandas this will be changed to expand=True (return DataFrame)\n",
      "  after removing the cwd from sys.path.\n"
     ]
    }
   ],
   "source": [
    "# get locations using regex and find lats and longs\n",
    "locations = disease_2011[\"GeoLocation\"]\n",
    "lats = locations.str.extract(\"(?<=\\s)(.*?)(?=\\.)\").astype(int)\n",
    "longs = locations.str.extract(\"(?<=\\()(.*?)(?=\\.)\").astype(int)"
   ]
  },
  {
   "cell_type": "code",
   "execution_count": 59,
   "metadata": {},
   "outputs": [],
   "source": [
    "def area_us(lat):\n",
    "    \"\"\"\n",
    "    Returns area wrt USA according to a latitude\n",
    "    \"\"\"\n",
    "    if lat < -95:\n",
    "        return \"West\"\n",
    "    else:\n",
    "        return \"East\""
   ]
  },
  {
   "cell_type": "code",
   "execution_count": 60,
   "metadata": {
    "collapsed": true
   },
   "outputs": [],
   "source": [
    "# add another columns for area\n",
    "disease_2011[\"area\"] = lats.apply(area_us)"
   ]
  },
  {
   "cell_type": "code",
   "execution_count": 61,
   "metadata": {
    "collapsed": true
   },
   "outputs": [
    {
     "data": {
      "text/html": [
       "<div>\n",
       "<style scoped>\n",
       "    .dataframe tbody tr th:only-of-type {\n",
       "        vertical-align: middle;\n",
       "    }\n",
       "\n",
       "    .dataframe tbody tr th {\n",
       "        vertical-align: top;\n",
       "    }\n",
       "\n",
       "    .dataframe thead th {\n",
       "        text-align: right;\n",
       "    }\n",
       "</style>\n",
       "<table border=\"1\" class=\"dataframe\">\n",
       "  <thead>\n",
       "    <tr style=\"text-align: right;\">\n",
       "      <th></th>\n",
       "      <th>Year</th>\n",
       "      <th>LocationAbbr</th>\n",
       "      <th>LocationDesc</th>\n",
       "      <th>Datasource</th>\n",
       "      <th>PriorityArea1</th>\n",
       "      <th>PriorityArea2</th>\n",
       "      <th>PriorityArea3</th>\n",
       "      <th>PriorityArea4</th>\n",
       "      <th>Category</th>\n",
       "      <th>Topic</th>\n",
       "      <th>...</th>\n",
       "      <th>Break_out</th>\n",
       "      <th>CategoryID</th>\n",
       "      <th>TopicID</th>\n",
       "      <th>IndicatorID</th>\n",
       "      <th>Data_Value_TypeID</th>\n",
       "      <th>BreakoutCategoryID</th>\n",
       "      <th>BreakOutID</th>\n",
       "      <th>LocationID</th>\n",
       "      <th>GeoLocation</th>\n",
       "      <th>area</th>\n",
       "    </tr>\n",
       "  </thead>\n",
       "  <tbody>\n",
       "    <tr>\n",
       "      <th>0</th>\n",
       "      <td>2011</td>\n",
       "      <td>AL</td>\n",
       "      <td>Alabama</td>\n",
       "      <td>BRFSS</td>\n",
       "      <td>None</td>\n",
       "      <td>None</td>\n",
       "      <td>None</td>\n",
       "      <td>None</td>\n",
       "      <td>Cardiovascular Diseases</td>\n",
       "      <td>Major Cardiovascular Disease</td>\n",
       "      <td>...</td>\n",
       "      <td>Overall</td>\n",
       "      <td>C1</td>\n",
       "      <td>T1</td>\n",
       "      <td>BR001</td>\n",
       "      <td>AgeStdz</td>\n",
       "      <td>BOC01</td>\n",
       "      <td>OVR01</td>\n",
       "      <td>1</td>\n",
       "      <td>(32.84057112200048, -86.63186076199969)</td>\n",
       "      <td>East</td>\n",
       "    </tr>\n",
       "    <tr>\n",
       "      <th>3</th>\n",
       "      <td>2011</td>\n",
       "      <td>AL</td>\n",
       "      <td>Alabama</td>\n",
       "      <td>BRFSS</td>\n",
       "      <td>None</td>\n",
       "      <td>None</td>\n",
       "      <td>None</td>\n",
       "      <td>None</td>\n",
       "      <td>Cardiovascular Diseases</td>\n",
       "      <td>Major Cardiovascular Disease</td>\n",
       "      <td>...</td>\n",
       "      <td>Male</td>\n",
       "      <td>C1</td>\n",
       "      <td>T1</td>\n",
       "      <td>BR001</td>\n",
       "      <td>AgeStdz</td>\n",
       "      <td>BOC02</td>\n",
       "      <td>GEN01</td>\n",
       "      <td>1</td>\n",
       "      <td>(32.84057112200048, -86.63186076199969)</td>\n",
       "      <td>East</td>\n",
       "    </tr>\n",
       "    <tr>\n",
       "      <th>4</th>\n",
       "      <td>2011</td>\n",
       "      <td>AL</td>\n",
       "      <td>Alabama</td>\n",
       "      <td>BRFSS</td>\n",
       "      <td>None</td>\n",
       "      <td>None</td>\n",
       "      <td>None</td>\n",
       "      <td>None</td>\n",
       "      <td>Cardiovascular Diseases</td>\n",
       "      <td>Major Cardiovascular Disease</td>\n",
       "      <td>...</td>\n",
       "      <td>Female</td>\n",
       "      <td>C1</td>\n",
       "      <td>T1</td>\n",
       "      <td>BR001</td>\n",
       "      <td>AgeStdz</td>\n",
       "      <td>BOC02</td>\n",
       "      <td>GEN02</td>\n",
       "      <td>1</td>\n",
       "      <td>(32.84057112200048, -86.63186076199969)</td>\n",
       "      <td>East</td>\n",
       "    </tr>\n",
       "    <tr>\n",
       "      <th>13</th>\n",
       "      <td>2011</td>\n",
       "      <td>AL</td>\n",
       "      <td>Alabama</td>\n",
       "      <td>BRFSS</td>\n",
       "      <td>None</td>\n",
       "      <td>None</td>\n",
       "      <td>None</td>\n",
       "      <td>None</td>\n",
       "      <td>Cardiovascular Diseases</td>\n",
       "      <td>Major Cardiovascular Disease</td>\n",
       "      <td>...</td>\n",
       "      <td>Non-Hispanic White</td>\n",
       "      <td>C1</td>\n",
       "      <td>T1</td>\n",
       "      <td>BR001</td>\n",
       "      <td>AgeStdz</td>\n",
       "      <td>BOC04</td>\n",
       "      <td>RAC01</td>\n",
       "      <td>1</td>\n",
       "      <td>(32.84057112200048, -86.63186076199969)</td>\n",
       "      <td>East</td>\n",
       "    </tr>\n",
       "    <tr>\n",
       "      <th>14</th>\n",
       "      <td>2011</td>\n",
       "      <td>AL</td>\n",
       "      <td>Alabama</td>\n",
       "      <td>BRFSS</td>\n",
       "      <td>None</td>\n",
       "      <td>None</td>\n",
       "      <td>None</td>\n",
       "      <td>None</td>\n",
       "      <td>Cardiovascular Diseases</td>\n",
       "      <td>Major Cardiovascular Disease</td>\n",
       "      <td>...</td>\n",
       "      <td>Non-Hispanic Black</td>\n",
       "      <td>C1</td>\n",
       "      <td>T1</td>\n",
       "      <td>BR001</td>\n",
       "      <td>AgeStdz</td>\n",
       "      <td>BOC04</td>\n",
       "      <td>RAC02</td>\n",
       "      <td>1</td>\n",
       "      <td>(32.84057112200048, -86.63186076199969)</td>\n",
       "      <td>East</td>\n",
       "    </tr>\n",
       "  </tbody>\n",
       "</table>\n",
       "<p>5 rows × 30 columns</p>\n",
       "</div>"
      ],
      "text/plain": [
       "    Year LocationAbbr LocationDesc Datasource PriorityArea1 PriorityArea2  \\\n",
       "0   2011           AL      Alabama      BRFSS          None          None   \n",
       "3   2011           AL      Alabama      BRFSS          None          None   \n",
       "4   2011           AL      Alabama      BRFSS          None          None   \n",
       "13  2011           AL      Alabama      BRFSS          None          None   \n",
       "14  2011           AL      Alabama      BRFSS          None          None   \n",
       "\n",
       "   PriorityArea3 PriorityArea4                 Category  \\\n",
       "0           None          None  Cardiovascular Diseases   \n",
       "3           None          None  Cardiovascular Diseases   \n",
       "4           None          None  Cardiovascular Diseases   \n",
       "13          None          None  Cardiovascular Diseases   \n",
       "14          None          None  Cardiovascular Diseases   \n",
       "\n",
       "                           Topic  ...            Break_out CategoryID TopicID  \\\n",
       "0   Major Cardiovascular Disease  ...              Overall         C1      T1   \n",
       "3   Major Cardiovascular Disease  ...                 Male         C1      T1   \n",
       "4   Major Cardiovascular Disease  ...               Female         C1      T1   \n",
       "13  Major Cardiovascular Disease  ...   Non-Hispanic White         C1      T1   \n",
       "14  Major Cardiovascular Disease  ...   Non-Hispanic Black         C1      T1   \n",
       "\n",
       "    IndicatorID  Data_Value_TypeID BreakoutCategoryID BreakOutID  LocationID  \\\n",
       "0         BR001            AgeStdz              BOC01      OVR01           1   \n",
       "3         BR001            AgeStdz              BOC02      GEN01           1   \n",
       "4         BR001            AgeStdz              BOC02      GEN02           1   \n",
       "13        BR001            AgeStdz              BOC04      RAC01           1   \n",
       "14        BR001            AgeStdz              BOC04      RAC02           1   \n",
       "\n",
       "                                GeoLocation  area  \n",
       "0   (32.84057112200048, -86.63186076199969)  East  \n",
       "3   (32.84057112200048, -86.63186076199969)  East  \n",
       "4   (32.84057112200048, -86.63186076199969)  East  \n",
       "13  (32.84057112200048, -86.63186076199969)  East  \n",
       "14  (32.84057112200048, -86.63186076199969)  East  \n",
       "\n",
       "[5 rows x 30 columns]"
      ]
     },
     "execution_count": 61,
     "metadata": {},
     "output_type": "execute_result"
    }
   ],
   "source": [
    "disease_2011.head()"
   ]
  },
  {
   "cell_type": "markdown",
   "metadata": {},
   "source": [
    "### Cholesterol"
   ]
  },
  {
   "cell_type": "code",
   "execution_count": 62,
   "metadata": {},
   "outputs": [],
   "source": [
    "# only include overall cholesterol categories\n",
    "cholesterol = disease_2011[disease_2011[\"Topic\"] == 'Cholesterol Abnormalities']\n",
    "cholesterol = cholesterol[cholesterol[\"Break_Out_Category\"] == \"Overall\"]"
   ]
  },
  {
   "cell_type": "code",
   "execution_count": 63,
   "metadata": {
    "collapsed": true
   },
   "outputs": [
    {
     "name": "stdout",
     "output_type": "stream",
     "text": [
      "Year\n",
      "[2011]\n",
      "\n",
      "LocationAbbr\n",
      "['AL' 'AK' 'AZ' 'AR' 'CA' 'CO' 'CT' 'DE' 'DC' 'FL' 'GA' 'HI' 'ID' 'IL'\n",
      " 'IN' 'IA' 'KS' 'KY' 'LA' 'ME' 'MD' 'MA' 'MI' 'MN' 'MS' 'MO' 'MT' 'NE'\n",
      " 'NV' 'NH' 'NJ' 'NM' 'NY' 'NC' 'ND' 'OH' 'OK' 'OR' 'PA' 'RI' 'SC' 'SD'\n",
      " 'TN' 'TX' 'UT' 'VT' 'VA' 'WA' 'WV' 'WI' 'WY']\n",
      "\n",
      "LocationDesc\n",
      "['Alabama' 'Alaska' 'Arizona' 'Arkansas' 'California' 'Colorado'\n",
      " 'Connecticut' 'Delaware' 'Washington, DC' 'Florida' 'Georgia' 'Hawaii'\n",
      " 'Idaho' 'Illinois' 'Indiana' 'Iowa' 'Kansas' 'Kentucky' 'Louisiana'\n",
      " 'Maine' 'Maryland' 'Massachusetts' 'Michigan' 'Minnesota' 'Mississippi'\n",
      " 'Missouri' 'Montana' 'Nebraska' 'Nevada' 'New Hampshire' 'New Jersey'\n",
      " 'New Mexico' 'New York' 'North Carolina' 'North Dakota' 'Ohio' 'Oklahoma'\n",
      " 'Oregon' 'Pennsylvania' 'Rhode Island' 'South Carolina' 'South Dakota'\n",
      " 'Tennessee' 'Texas' 'Utah' 'Vermont' 'Virginia' 'Washington'\n",
      " 'West Virginia' 'Wisconsin' 'Wyoming']\n",
      "\n",
      "Datasource\n",
      "['BRFSS']\n",
      "\n",
      "PriorityArea1\n",
      "['None']\n",
      "\n",
      "PriorityArea2\n",
      "['None']\n",
      "\n",
      "PriorityArea3\n",
      "['Healthy People 2020']\n",
      "\n",
      "PriorityArea4\n",
      "['None']\n",
      "\n",
      "Category\n",
      "['Risk Factors']\n",
      "\n",
      "Topic\n",
      "['Cholesterol Abnormalities']\n",
      "\n",
      "Indicator\n",
      "['Prevalence of cholesterol screening in the past 5 years among US adults (20+); BRFSS'\n",
      " 'Prevalence of high total cholesterol among US adults (20+); BRFSS']\n",
      "\n",
      "Data_Value_Type\n",
      "['Age-Standardized']\n",
      "\n",
      "Data_Value_Unit\n",
      "['Percent (%)']\n",
      "\n",
      "Data_Value\n",
      "[95.8 92.8 94.6 95.  96.  94.3 96.9 97.4 95.1 95.6 94.5 93.2 94.  94.4\n",
      " 93.9 95.2 96.4 96.6 97.  95.3 91.2 93.6 93.3 96.8 94.1 94.7 93.  92.\n",
      " 97.1 94.8 95.5 94.9 96.1 96.7 93.1 37.2 32.3 35.3 34.  30.5 32.8 36.4\n",
      " 33.8 36.6 35.5 33.5 34.6 33.3 34.5 37.5 35.1 35.4 33.6 31.3 37.4 32.1\n",
      " 29.3 33.7 35.  34.2 32.2 34.9 35.2 31.1 34.1 37.  33.2 36.  36.8 31.5\n",
      " 35.8 38.7 30.7 34.3 35.6 32.6]\n",
      "\n",
      "Data_Value_Alt\n",
      "[95.8 92.8 94.6 95.  96.  94.3 96.9 97.4 95.1 95.6 94.5 93.2 94.  94.4\n",
      " 93.9 95.2 96.4 96.6 97.  95.3 91.2 93.6 93.3 96.8 94.1 94.7 93.  92.\n",
      " 97.1 94.8 95.5 94.9 96.1 96.7 93.1 37.2 32.3 35.3 34.  30.5 32.8 36.4\n",
      " 33.8 36.6 35.5 33.5 34.6 33.3 34.5 37.5 35.1 35.4 33.6 31.3 37.4 32.1\n",
      " 29.3 33.7 35.  34.2 32.2 34.9 35.2 31.1 34.1 37.  33.2 36.  36.8 31.5\n",
      " 35.8 38.7 30.7 34.3 35.6 32.6]\n",
      "\n",
      "Data_Value_Footnote_Symbol\n",
      "[nan]\n",
      "\n",
      "Data_Value_Footnote\n",
      "[nan]\n",
      "\n",
      "Confidence_Limit_Low\n",
      "[94.9 91.2 92.9 93.4 95.5 93.6 95.  95.7 96.4 94.1 94.7 93.3 91.8 92.7\n",
      " 92.8 94.6 93.2 95.9 96.5 90.  93.1 91.4 93.9 96.2 95.1 95.6 93.  93.7\n",
      " 90.6 93.8 96.3 94.2 94.  92.1 91.7 35.6 30.  34.7 33.  32.9 29.4 31.\n",
      " 34.3 31.7 35.1 34.  31.6 32.  32.7 33.1 31.8 33.5 35.9 33.6 34.2 32.1\n",
      " 30.3 36.  27.9 32.8 33.2 30.7 33.4 33.7 29.5 32.6 35.4 37.2 32.3 29.3\n",
      " 34.1 34.8 30.5 30.4]\n",
      "\n",
      "Confidence_Limit_High\n",
      "[96.5 94.1 95.9 96.2 96.4 95.  96.8 97.8 98.2 95.5 94.4 95.2 94.8 95.7\n",
      " 95.4 97.1 97.2 97.4 95.1 92.3 94.2 94.7 96.  97.3 95.8 97.  95.6 94.\n",
      " 93.2 97.7 96.9 94.3 94.9 38.9 34.6 39.9 37.7 35.  31.6 34.5 38.6 36.\n",
      " 38.1 37.  35.5 36.1 36.6 34.9 35.4 39.1 36.7 32.3 33.3 37.4 30.7 38.2\n",
      " 36.9 33.7 36.3 36.8 32.7 35.6 37.8 33.8 40.3 34.7 37.1 38.4 34. ]\n",
      "\n",
      "Break_Out_Category\n",
      "['Overall']\n",
      "\n",
      "Break_out\n",
      "['Overall']\n",
      "\n",
      "CategoryID\n",
      "['C2']\n",
      "\n",
      "TopicID\n",
      "['T10']\n",
      "\n",
      "IndicatorID\n",
      "['BR013' 'BR014']\n",
      "\n",
      "Data_Value_TypeID\n",
      "['AgeStdz']\n",
      "\n",
      "BreakoutCategoryID\n",
      "['BOC01']\n",
      "\n",
      "BreakOutID\n",
      "['OVR01']\n",
      "\n",
      "LocationID\n",
      "[ 1  2  4  5  6  8  9 10 11 12 13 15 16 17 18 19 20 21 22 23 24 25 26 27\n",
      " 28 29 30 31 32 33 34 35 36 37 38 39 40 41 42 44 45 46 47 48 49 50 51 53\n",
      " 54 55 56]\n",
      "\n",
      "GeoLocation\n",
      "['(32.84057112200048, -86.63186076199969)'\n",
      " '(64.84507995700051, -147.72205903599973)'\n",
      " '(34.865970280000454, -111.76381127699972)'\n",
      " '(34.74865012400045, -92.27449074299966)'\n",
      " '(37.63864012300047, -120.99999953799971)'\n",
      " '(38.843840757000464, -106.13361092099967)'\n",
      " '(41.56266102000046, -72.64984095199964)'\n",
      " '(39.008830667000495, -75.57774116799965)'\n",
      " '(38.89037138500049, -77.03196112699965)'\n",
      " '(28.932040377000476, -81.92896053899966)'\n",
      " '(32.83968109300048, -83.62758034599966)'\n",
      " '(21.304850435000446, -157.85774940299973)'\n",
      " '(43.682630005000476, -114.3637300419997)'\n",
      " '(40.48501028300046, -88.99771017799969)'\n",
      " '(39.766910452000445, -86.14996019399968)'\n",
      " '(42.46940091300047, -93.81649055599968)'\n",
      " '(38.34774030000045, -98.20078122699965)'\n",
      " '(37.645970271000465, -84.77497104799966)'\n",
      " '(31.31266064400046, -92.44568007099969)'\n",
      " '(45.254228894000505, -68.98503133599962)'\n",
      " '(39.29058096400047, -76.60926011099963)'\n",
      " '(42.27687047000046, -72.08269067499964)'\n",
      " '(44.6613195430005, -84.71439026999968)'\n",
      " '(46.35564873600049, -94.79420050299967)'\n",
      " '(32.745510099000455, -89.53803082499968)'\n",
      " '(38.635790776000476, -92.56630005299968)'\n",
      " '(47.06652897200047, -109.42442064499971)'\n",
      " '(41.6410409880005, -99.36572062299967)'\n",
      " '(39.493240390000494, -117.07184056399967)'\n",
      " '(43.65595011300047, -71.50036091999965)'\n",
      " '(40.13057004800049, -74.27369128799967)'\n",
      " '(34.52088095200048, -106.24058098499967)'\n",
      " '(42.82700103200045, -75.54397042699964)'\n",
      " '(35.466220975000454, -79.15925046299964)'\n",
      " '(47.47531977900047, -100.11842104899966)'\n",
      " '(40.06021014100048, -82.40426005599966)'\n",
      " '(35.47203135600046, -97.52107021399968)'\n",
      " '(44.56744942400047, -120.15503132599969)'\n",
      " '(40.79373015200048, -77.86070029399963)'\n",
      " '(41.70828019300046, -71.52247031399963)'\n",
      " '(33.998821303000454, -81.04537120699968)'\n",
      " '(44.353130053000484, -100.3735306369997)'\n",
      " '(35.68094058000048, -85.77449091399967)'\n",
      " '(31.827240407000488, -99.42677020599967)'\n",
      " '(39.360700171000474, -111.58713063499971)'\n",
      " '(43.62538123900049, -72.51764079099962)'\n",
      " '(37.54268067400045, -78.45789046299967)'\n",
      " '(47.52227862900048, -120.47001078999972)'\n",
      " '(38.66551020200046, -80.71264013499967)'\n",
      " '(44.39319117400049, -89.81637074199966)'\n",
      " '(43.23554134300048, -108.10983035299967)']\n",
      "\n",
      "area\n",
      "['East' 'West']\n",
      "\n"
     ]
    }
   ],
   "source": [
    "for i in cholesterol.columns:\n",
    "    print(i)\n",
    "    print(cholesterol[i].unique())\n",
    "    print(\"\")"
   ]
  },
  {
   "cell_type": "markdown",
   "metadata": {},
   "source": [
    "There are two different cholesterol measures: \n",
    "- Prevalence of cholesterol screening in the past 5 years among US adults (20+); BRFSS\n",
    "- Prevalence of high total cholesterol among US adults (20+); BRFSS\n",
    "\n",
    "We will ue the latter of the two as a feature"
   ]
  },
  {
   "cell_type": "code",
   "execution_count": 64,
   "metadata": {},
   "outputs": [],
   "source": [
    "# get just the values of two variables\n",
    "screening_chol = cholesterol[cholesterol[\"IndicatorID\"] == 'BR013'][\"Data_Value\"].tolist()\n",
    "high_chol = cholesterol[cholesterol[\"IndicatorID\"] == 'BR014'][\"Data_Value\"].tolist()"
   ]
  },
  {
   "cell_type": "code",
   "execution_count": 65,
   "metadata": {
    "collapsed": true
   },
   "outputs": [
    {
     "name": "stdout",
     "output_type": "stream",
     "text": [
      "51\n",
      "51\n"
     ]
    }
   ],
   "source": [
    "print(len(screening_chol))\n",
    "print(len(high_chol))"
   ]
  },
  {
   "cell_type": "markdown",
   "metadata": {},
   "source": [
    "### Nutrition"
   ]
  },
  {
   "cell_type": "code",
   "execution_count": 66,
   "metadata": {
    "collapsed": true
   },
   "outputs": [
    {
     "name": "stdout",
     "output_type": "stream",
     "text": [
      "51\n"
     ]
    }
   ],
   "source": [
    "# repeat for nutrition\n",
    "nutrition = disease_2011[disease_2011[\"Topic\"] == 'Nutrition']\n",
    "nutrition = nutrition[nutrition[\"Break_Out_Category\"] == \"Overall\"]\n",
    "nutrition_var = nutrition[\"Data_Value\"].tolist()\n",
    "print(len(nutrition_var))"
   ]
  },
  {
   "cell_type": "markdown",
   "metadata": {},
   "source": [
    "### Obesity"
   ]
  },
  {
   "cell_type": "code",
   "execution_count": 67,
   "metadata": {},
   "outputs": [],
   "source": [
    "obesity = disease_2011[disease_2011[\"Topic\"] == 'Obesity']\n",
    "obesity = obesity[obesity[\"Break_Out_Category\"] == \"Overall\"]"
   ]
  },
  {
   "cell_type": "code",
   "execution_count": 68,
   "metadata": {
    "collapsed": true
   },
   "outputs": [
    {
     "name": "stdout",
     "output_type": "stream",
     "text": [
      "Year\n",
      "[2011]\n",
      "\n",
      "LocationAbbr\n",
      "['AL' 'AK' 'AZ' 'AR' 'CA' 'CO' 'CT' 'DE' 'DC' 'FL' 'GA' 'HI' 'ID' 'IL'\n",
      " 'IN' 'IA' 'KS' 'KY' 'LA' 'ME' 'MD' 'MA' 'MI' 'MN' 'MS' 'MO' 'MT' 'NE'\n",
      " 'NV' 'NH' 'NJ' 'NM' 'NY' 'NC' 'ND' 'OH' 'OK' 'OR' 'PA' 'RI' 'SC' 'SD'\n",
      " 'TN' 'TX' 'UT' 'VT' 'VA' 'WA' 'WV' 'WI' 'WY']\n",
      "\n",
      "LocationDesc\n",
      "['Alabama' 'Alaska' 'Arizona' 'Arkansas' 'California' 'Colorado'\n",
      " 'Connecticut' 'Delaware' 'Washington, DC' 'Florida' 'Georgia' 'Hawaii'\n",
      " 'Idaho' 'Illinois' 'Indiana' 'Iowa' 'Kansas' 'Kentucky' 'Louisiana'\n",
      " 'Maine' 'Maryland' 'Massachusetts' 'Michigan' 'Minnesota' 'Mississippi'\n",
      " 'Missouri' 'Montana' 'Nebraska' 'Nevada' 'New Hampshire' 'New Jersey'\n",
      " 'New Mexico' 'New York' 'North Carolina' 'North Dakota' 'Ohio' 'Oklahoma'\n",
      " 'Oregon' 'Pennsylvania' 'Rhode Island' 'South Carolina' 'South Dakota'\n",
      " 'Tennessee' 'Texas' 'Utah' 'Vermont' 'Virginia' 'Washington'\n",
      " 'West Virginia' 'Wisconsin' 'Wyoming']\n",
      "\n",
      "Datasource\n",
      "['BRFSS']\n",
      "\n",
      "PriorityArea1\n",
      "['None']\n",
      "\n",
      "PriorityArea2\n",
      "['None']\n",
      "\n",
      "PriorityArea3\n",
      "['Healthy People 2020']\n",
      "\n",
      "PriorityArea4\n",
      "['None']\n",
      "\n",
      "Category\n",
      "['Risk Factors']\n",
      "\n",
      "Topic\n",
      "['Obesity']\n",
      "\n",
      "Indicator\n",
      "['Prevalence of obesity among US adults (20+); BRFSS'\n",
      " 'Prevalence of healthy weight among US adults (20+); BRFSS']\n",
      "\n",
      "Data_Value_Type\n",
      "['Age-Standardized']\n",
      "\n",
      "Data_Value_Unit\n",
      "['Percent (%)']\n",
      "\n",
      "Data_Value\n",
      "[32.9 28.1 25.3 31.6 24.6 21.2 24.3 29.2 25.1 26.9 28.7 23.  27.7 31.\n",
      " 30.2 30.7 34.7 28.3 28.6 31.8 26.4 35.8 30.8 25.  29.1 25.2 26.1 23.8\n",
      " 27.3 24.9 29.9 28.8 29.7 31.9 27.2 28.5 29.  31.3 25.9 25.8 29.6 27.1\n",
      " 33.1 28.  25.5 30.5 31.5 33.8 32.2 36.5 41.1 38.4 33.6 43.8 35.5 40.4\n",
      " 34.8 31.7 33.  29.4 33.4 33.5 38.6 32.3 28.2 32.8 38.  32.4 36.  36.2\n",
      " 36.7 34.2 36.9 32.7 35.7 34.3 35.6 33.2 36.3 38.8 34.5 33.7]\n",
      "\n",
      "Data_Value_Alt\n",
      "[32.9 28.1 25.3 31.6 24.6 21.2 24.3 29.2 25.1 26.9 28.7 23.  27.7 31.\n",
      " 30.2 30.7 34.7 28.3 28.6 31.8 26.4 35.8 30.8 25.  29.1 25.2 26.1 23.8\n",
      " 27.3 24.9 29.9 28.8 29.7 31.9 27.2 28.5 29.  31.3 25.9 25.8 29.6 27.1\n",
      " 33.1 28.  25.5 30.5 31.5 33.8 32.2 36.5 41.1 38.4 33.6 43.8 35.5 40.4\n",
      " 34.8 31.7 33.  29.4 33.4 33.5 38.6 32.3 28.2 32.8 38.  32.4 36.  36.2\n",
      " 36.7 34.2 36.9 32.7 35.7 34.3 35.6 33.2 36.3 38.8 34.5 33.7]\n",
      "\n",
      "Data_Value_Footnote_Symbol\n",
      "[nan]\n",
      "\n",
      "Data_Value_Footnote\n",
      "[nan]\n",
      "\n",
      "Confidence_Limit_Low\n",
      "[31.3 26.  23.1 29.4 23.6 20.1 22.7 27.3 23.2 25.6 27.4 21.4 25.9 29.6\n",
      " 27.9 29.2 33.2 27.1 27.2 22.1 30.4 25.3 34.3 29.1 28.2 24.5 23.5 28.4\n",
      " 30.5 30.2 27.  29.9 24.8 24.3 27.8 25.8 31.5 24.  28.9 29.3 35.5 39.8\n",
      " 36.6 41.6 34.  32.1 38.6 32.8 31.  30.3 28.  32.  37.4 30.9 33.5 26.8\n",
      " 31.1 36.5 33.7 35.4 31.6 30.8 32.9 33.9 28.3 35.2 37.1 32.7 34.9 26.3\n",
      " 34.8]\n",
      "\n",
      "Confidence_Limit_High\n",
      "[34.5 30.4 27.6 34.  25.5 22.3 25.9 31.3 27.  28.3 30.1 24.6 29.5 32.4\n",
      " 30.6 31.1 32.3 36.2 29.4 24.  33.3 27.5 37.3 32.6 26.4 30.  27.4 27.8\n",
      " 24.9 28.6 26.3 31.4 30.5 31.2 33.4 29.  29.8 32.9 32.5 32.7 27.3 28.4\n",
      " 34.8 30.2 27.1 32.1 33.7 34.6 37.5 42.4 40.3 35.8 45.9 37.  35.1 42.2\n",
      " 36.8 34.9 33.2 33.9 30.9 39.8 33.8 35.9 29.7 39.6 38.4 38.  35.6 38.6\n",
      " 34.3 35.2 35.7 37.4 33.1 35.4 40.5 36.4 37.7 38.3]\n",
      "\n",
      "Break_Out_Category\n",
      "['Overall']\n",
      "\n",
      "Break_out\n",
      "['Overall']\n",
      "\n",
      "CategoryID\n",
      "['C2']\n",
      "\n",
      "TopicID\n",
      "['T13']\n",
      "\n",
      "IndicatorID\n",
      "['BR019' 'BR021']\n",
      "\n",
      "Data_Value_TypeID\n",
      "['AgeStdz']\n",
      "\n",
      "BreakoutCategoryID\n",
      "['BOC01']\n",
      "\n",
      "BreakOutID\n",
      "['OVR01']\n",
      "\n",
      "LocationID\n",
      "[ 1  2  4  5  6  8  9 10 11 12 13 15 16 17 18 19 20 21 22 23 24 25 26 27\n",
      " 28 29 30 31 32 33 34 35 36 37 38 39 40 41 42 44 45 46 47 48 49 50 51 53\n",
      " 54 55 56]\n",
      "\n",
      "GeoLocation\n",
      "['(32.84057112200048, -86.63186076199969)'\n",
      " '(64.84507995700051, -147.72205903599973)'\n",
      " '(34.865970280000454, -111.76381127699972)'\n",
      " '(34.74865012400045, -92.27449074299966)'\n",
      " '(37.63864012300047, -120.99999953799971)'\n",
      " '(38.843840757000464, -106.13361092099967)'\n",
      " '(41.56266102000046, -72.64984095199964)'\n",
      " '(39.008830667000495, -75.57774116799965)'\n",
      " '(38.89037138500049, -77.03196112699965)'\n",
      " '(28.932040377000476, -81.92896053899966)'\n",
      " '(32.83968109300048, -83.62758034599966)'\n",
      " '(21.304850435000446, -157.85774940299973)'\n",
      " '(43.682630005000476, -114.3637300419997)'\n",
      " '(40.48501028300046, -88.99771017799969)'\n",
      " '(39.766910452000445, -86.14996019399968)'\n",
      " '(42.46940091300047, -93.81649055599968)'\n",
      " '(38.34774030000045, -98.20078122699965)'\n",
      " '(37.645970271000465, -84.77497104799966)'\n",
      " '(31.31266064400046, -92.44568007099969)'\n",
      " '(45.254228894000505, -68.98503133599962)'\n",
      " '(39.29058096400047, -76.60926011099963)'\n",
      " '(42.27687047000046, -72.08269067499964)'\n",
      " '(44.6613195430005, -84.71439026999968)'\n",
      " '(46.35564873600049, -94.79420050299967)'\n",
      " '(32.745510099000455, -89.53803082499968)'\n",
      " '(38.635790776000476, -92.56630005299968)'\n",
      " '(47.06652897200047, -109.42442064499971)'\n",
      " '(41.6410409880005, -99.36572062299967)'\n",
      " '(39.493240390000494, -117.07184056399967)'\n",
      " '(43.65595011300047, -71.50036091999965)'\n",
      " '(40.13057004800049, -74.27369128799967)'\n",
      " '(34.52088095200048, -106.24058098499967)'\n",
      " '(42.82700103200045, -75.54397042699964)'\n",
      " '(35.466220975000454, -79.15925046299964)'\n",
      " '(47.47531977900047, -100.11842104899966)'\n",
      " '(40.06021014100048, -82.40426005599966)'\n",
      " '(35.47203135600046, -97.52107021399968)'\n",
      " '(44.56744942400047, -120.15503132599969)'\n",
      " '(40.79373015200048, -77.86070029399963)'\n",
      " '(41.70828019300046, -71.52247031399963)'\n",
      " '(33.998821303000454, -81.04537120699968)'\n",
      " '(44.353130053000484, -100.3735306369997)'\n",
      " '(35.68094058000048, -85.77449091399967)'\n",
      " '(31.827240407000488, -99.42677020599967)'\n",
      " '(39.360700171000474, -111.58713063499971)'\n",
      " '(43.62538123900049, -72.51764079099962)'\n",
      " '(37.54268067400045, -78.45789046299967)'\n",
      " '(47.52227862900048, -120.47001078999972)'\n",
      " '(38.66551020200046, -80.71264013499967)'\n",
      " '(44.39319117400049, -89.81637074199966)'\n",
      " '(43.23554134300048, -108.10983035299967)']\n",
      "\n",
      "area\n",
      "['East' 'West']\n",
      "\n"
     ]
    }
   ],
   "source": [
    "for i in obesity.columns: \n",
    "    print(i)\n",
    "    print(obesity[i].unique())\n",
    "    print(\"\")"
   ]
  },
  {
   "cell_type": "markdown",
   "metadata": {},
   "source": [
    "There are two measures of obesity:\n",
    "- 'Prevalence of obesity among US adults (20+); BRFSS'\n",
    "- 'Prevalence of healthy weight among US adults (20+); BRFSS'\n",
    "\n",
    "We will use the former of the two as a feature"
   ]
  },
  {
   "cell_type": "code",
   "execution_count": 69,
   "metadata": {
    "collapsed": true
   },
   "outputs": [
    {
     "name": "stdout",
     "output_type": "stream",
     "text": [
      "51\n",
      "51\n"
     ]
    }
   ],
   "source": [
    "obesity_prev = obesity[obesity[\"IndicatorID\"] == \"BR019\"][\"Data_Value\"].tolist()\n",
    "healthy_prev = obesity[obesity[\"IndicatorID\"] == \"BR021\"][\"Data_Value\"].tolist()\n",
    "print(len(obesity_prev))\n",
    "print(len(healthy_prev))"
   ]
  },
  {
   "cell_type": "markdown",
   "metadata": {},
   "source": [
    "### Smoking"
   ]
  },
  {
   "cell_type": "code",
   "execution_count": 70,
   "metadata": {
    "collapsed": true
   },
   "outputs": [
    {
     "data": {
      "text/plain": [
       "51"
      ]
     },
     "execution_count": 70,
     "metadata": {},
     "output_type": "execute_result"
    }
   ],
   "source": [
    "smoking = disease_2011[disease_2011[\"Topic\"] == 'Smoking']\n",
    "smoking = smoking[smoking[\"Break_Out_Category\"] == \"Overall\"]\n",
    "smoking_var = smoking[\"Data_Value\"].tolist()\n",
    "len(smoking_var)"
   ]
  },
  {
   "cell_type": "markdown",
   "metadata": {},
   "source": [
    "### Physical Inactivity"
   ]
  },
  {
   "cell_type": "code",
   "execution_count": 71,
   "metadata": {
    "collapsed": true
   },
   "outputs": [
    {
     "data": {
      "text/plain": [
       "51"
      ]
     },
     "execution_count": 71,
     "metadata": {},
     "output_type": "execute_result"
    }
   ],
   "source": [
    "physical = disease_2011[disease_2011[\"Topic\"] == 'Physical Inactivity']\n",
    "physical = physical[physical[\"Break_Out_Category\"] == \"Overall\"]\n",
    "physical_var = physical[\"Data_Value\"].tolist()\n",
    "len(physical_var)"
   ]
  },
  {
   "cell_type": "markdown",
   "metadata": {},
   "source": [
    "### Hyper Tension"
   ]
  },
  {
   "cell_type": "code",
   "execution_count": 72,
   "metadata": {
    "collapsed": true
   },
   "outputs": [
    {
     "data": {
      "text/plain": [
       "102"
      ]
     },
     "execution_count": 72,
     "metadata": {},
     "output_type": "execute_result"
    }
   ],
   "source": [
    "hypertension = disease_2011[disease_2011[\"Topic\"] == 'Hypertension']\n",
    "hypertension = hypertension[hypertension[\"Break_Out_Category\"] == \"Overall\"]\n",
    "hypertension_var = hypertension[\"Data_Value\"].tolist()\n",
    "len(hypertension_var)"
   ]
  },
  {
   "cell_type": "code",
   "execution_count": 73,
   "metadata": {
    "collapsed": true
   },
   "outputs": [
    {
     "name": "stdout",
     "output_type": "stream",
     "text": [
      "Year\n",
      "[2011]\n",
      "\n",
      "LocationAbbr\n",
      "['AL' 'AK' 'AZ' 'AR' 'CA' 'CO' 'CT' 'DE' 'DC' 'FL' 'GA' 'HI' 'ID' 'IL'\n",
      " 'IN' 'IA' 'KS' 'KY' 'LA' 'ME' 'MD' 'MA' 'MI' 'MN' 'MS' 'MO' 'MT' 'NE'\n",
      " 'NV' 'NH' 'NJ' 'NM' 'NY' 'NC' 'ND' 'OH' 'OK' 'OR' 'PA' 'RI' 'SC' 'SD'\n",
      " 'TN' 'TX' 'UT' 'VT' 'VA' 'WA' 'WV' 'WI' 'WY']\n",
      "\n",
      "LocationDesc\n",
      "['Alabama' 'Alaska' 'Arizona' 'Arkansas' 'California' 'Colorado'\n",
      " 'Connecticut' 'Delaware' 'Washington, DC' 'Florida' 'Georgia' 'Hawaii'\n",
      " 'Idaho' 'Illinois' 'Indiana' 'Iowa' 'Kansas' 'Kentucky' 'Louisiana'\n",
      " 'Maine' 'Maryland' 'Massachusetts' 'Michigan' 'Minnesota' 'Mississippi'\n",
      " 'Missouri' 'Montana' 'Nebraska' 'Nevada' 'New Hampshire' 'New Jersey'\n",
      " 'New Mexico' 'New York' 'North Carolina' 'North Dakota' 'Ohio' 'Oklahoma'\n",
      " 'Oregon' 'Pennsylvania' 'Rhode Island' 'South Carolina' 'South Dakota'\n",
      " 'Tennessee' 'Texas' 'Utah' 'Vermont' 'Virginia' 'Washington'\n",
      " 'West Virginia' 'Wisconsin' 'Wyoming']\n",
      "\n",
      "Datasource\n",
      "['BRFSS']\n",
      "\n",
      "PriorityArea1\n",
      "['None']\n",
      "\n",
      "PriorityArea2\n",
      "['None']\n",
      "\n",
      "PriorityArea3\n",
      "['Healthy People 2020']\n",
      "\n",
      "PriorityArea4\n",
      "['None']\n",
      "\n",
      "Category\n",
      "['Risk Factors']\n",
      "\n",
      "Topic\n",
      "['Hypertension']\n",
      "\n",
      "Indicator\n",
      "['Prevalence of hypertension among US adults (18+); BRFSS'\n",
      " 'Prevalence of hypertension medication use among US adults (18+) with hypertension; BRFSS']\n",
      "\n",
      "Data_Value_Type\n",
      "['Age-Standardized']\n",
      "\n",
      "Data_Value_Unit\n",
      "['Percent (%)']\n",
      "\n",
      "Data_Value\n",
      "[37.6 30.6 26.9 33.5 27.6 24.4 27.  32.  30.8 30.2 32.3 26.7 28.6 29.9\n",
      " 31.2 27.5 29.4 36.  37.1 28.4 30.1 27.4 31.8 25.1 37.8 32.2 30.5 28.2\n",
      " 28.7 27.1 28.9 30.7 30.4 33.9 27.7 30.9 34.2 28.8 36.7 31.6 26.5 29.\n",
      " 34.1 70.4 53.4 53.  66.4 54.  50.4 61.2 62.5 64.3 60.9 67.1 63.4 53.2\n",
      " 62.4 64.1 57.8 60.7 64.8 73.1 66.1 61.5 59.7 70.5 55.5 59.3 54.4 57.5\n",
      " 60.8 72.  60.  66.9 62.1 62.2 69.8 59.5 66.5 55.3 55.9 65.8 60.2 56.2]\n",
      "\n",
      "Data_Value_Alt\n",
      "[37.6 30.6 26.9 33.5 27.6 24.4 27.  32.  30.8 30.2 32.3 26.7 28.6 29.9\n",
      " 31.2 27.5 29.4 36.  37.1 28.4 30.1 27.4 31.8 25.1 37.8 32.2 30.5 28.2\n",
      " 28.7 27.1 28.9 30.7 30.4 33.9 27.7 30.9 34.2 28.8 36.7 31.6 26.5 29.\n",
      " 34.1 70.4 53.4 53.  66.4 54.  50.4 61.2 62.5 64.3 60.9 67.1 63.4 53.2\n",
      " 62.4 64.1 57.8 60.7 64.8 73.1 66.1 61.5 59.7 70.5 55.5 59.3 54.4 57.5\n",
      " 60.8 72.  60.  66.9 62.1 62.2 69.8 59.5 66.5 55.3 55.9 65.8 60.2 56.2]\n",
      "\n",
      "Data_Value_Footnote_Symbol\n",
      "[nan]\n",
      "\n",
      "Data_Value_Footnote\n",
      "[nan]\n",
      "\n",
      "Confidence_Limit_Low\n",
      "[36.2 28.7 25.1 31.8 26.8 23.6 25.8 30.3 29.1 29.  31.1 25.4 27.1 28.3\n",
      " 30.  26.4 34.7 35.8 27.5 28.9 26.6 30.6 24.2 36.6 30.7 26.3 28.5 27.7\n",
      " 26.1 27.6 29.5 26.2 29.2 32.7 29.6 33.  34.4 30.4 25.2 27.9 66.6 49.1\n",
      " 48.1 60.8 51.8 47.9 56.6 57.9 58.7 57.4 63.4 58.4 57.7 60.5 54.5 61.6\n",
      " 69.8 57.5 62.2 57.8 58.2 56.7 67.5 59.9 52.  57.1 50.8 54.6 55.2 68.\n",
      " 55.3 60.4 63.5 50.7 58.6 58.  66.5 54.9 60.3 58.9 52.5 61.  50.3 68.2\n",
      " 54.4 52.1]\n",
      "\n",
      "Confidence_Limit_High\n",
      "[39.  32.6 28.8 35.4 28.4 25.3 28.3 33.7 31.4 33.6 28.  30.2 31.5 32.4\n",
      " 28.6 30.1 37.4 38.4 29.4 33.  26.  39.1 27.7 29.6 29.7 28.2 31.9 35.2\n",
      " 29.  32.3 35.3 30.5 32.8 25.9 30.  35.5 73.9 57.7 57.9 71.5 56.1 52.9\n",
      " 65.6 67.  69.6 64.4 70.6 68.1 57.2 66.9 67.5 61.  62.7 67.9 76.3 63.8\n",
      " 69.8 63.5 64.7 73.3 68.  59.  61.5 60.1 58.  60.3 63.2 75.7 64.5 67.6\n",
      " 70.1 65.5 66.1 73.  63.9 72.1 65.2 59.9 70.3 75.5 65.8 60.2]\n",
      "\n",
      "Break_Out_Category\n",
      "['Overall']\n",
      "\n",
      "Break_out\n",
      "['Overall']\n",
      "\n",
      "CategoryID\n",
      "['C2']\n",
      "\n",
      "TopicID\n",
      "['T9']\n",
      "\n",
      "IndicatorID\n",
      "['BR011' 'BR012']\n",
      "\n",
      "Data_Value_TypeID\n",
      "['AgeStdz']\n",
      "\n",
      "BreakoutCategoryID\n",
      "['BOC01']\n",
      "\n",
      "BreakOutID\n",
      "['OVR01']\n",
      "\n",
      "LocationID\n",
      "[ 1  2  4  5  6  8  9 10 11 12 13 15 16 17 18 19 20 21 22 23 24 25 26 27\n",
      " 28 29 30 31 32 33 34 35 36 37 38 39 40 41 42 44 45 46 47 48 49 50 51 53\n",
      " 54 55 56]\n",
      "\n",
      "GeoLocation\n",
      "['(32.84057112200048, -86.63186076199969)'\n",
      " '(64.84507995700051, -147.72205903599973)'\n",
      " '(34.865970280000454, -111.76381127699972)'\n",
      " '(34.74865012400045, -92.27449074299966)'\n",
      " '(37.63864012300047, -120.99999953799971)'\n",
      " '(38.843840757000464, -106.13361092099967)'\n",
      " '(41.56266102000046, -72.64984095199964)'\n",
      " '(39.008830667000495, -75.57774116799965)'\n",
      " '(38.89037138500049, -77.03196112699965)'\n",
      " '(28.932040377000476, -81.92896053899966)'\n",
      " '(32.83968109300048, -83.62758034599966)'\n",
      " '(21.304850435000446, -157.85774940299973)'\n",
      " '(43.682630005000476, -114.3637300419997)'\n",
      " '(40.48501028300046, -88.99771017799969)'\n",
      " '(39.766910452000445, -86.14996019399968)'\n",
      " '(42.46940091300047, -93.81649055599968)'\n",
      " '(38.34774030000045, -98.20078122699965)'\n",
      " '(37.645970271000465, -84.77497104799966)'\n",
      " '(31.31266064400046, -92.44568007099969)'\n",
      " '(45.254228894000505, -68.98503133599962)'\n",
      " '(39.29058096400047, -76.60926011099963)'\n",
      " '(42.27687047000046, -72.08269067499964)'\n",
      " '(44.6613195430005, -84.71439026999968)'\n",
      " '(46.35564873600049, -94.79420050299967)'\n",
      " '(32.745510099000455, -89.53803082499968)'\n",
      " '(38.635790776000476, -92.56630005299968)'\n",
      " '(47.06652897200047, -109.42442064499971)'\n",
      " '(41.6410409880005, -99.36572062299967)'\n",
      " '(39.493240390000494, -117.07184056399967)'\n",
      " '(43.65595011300047, -71.50036091999965)'\n",
      " '(40.13057004800049, -74.27369128799967)'\n",
      " '(34.52088095200048, -106.24058098499967)'\n",
      " '(42.82700103200045, -75.54397042699964)'\n",
      " '(35.466220975000454, -79.15925046299964)'\n",
      " '(47.47531977900047, -100.11842104899966)'\n",
      " '(40.06021014100048, -82.40426005599966)'\n",
      " '(35.47203135600046, -97.52107021399968)'\n",
      " '(44.56744942400047, -120.15503132599969)'\n",
      " '(40.79373015200048, -77.86070029399963)'\n",
      " '(41.70828019300046, -71.52247031399963)'\n",
      " '(33.998821303000454, -81.04537120699968)'\n",
      " '(44.353130053000484, -100.3735306369997)'\n",
      " '(35.68094058000048, -85.77449091399967)'\n",
      " '(31.827240407000488, -99.42677020599967)'\n",
      " '(39.360700171000474, -111.58713063499971)'\n",
      " '(43.62538123900049, -72.51764079099962)'\n",
      " '(37.54268067400045, -78.45789046299967)'\n",
      " '(47.52227862900048, -120.47001078999972)'\n",
      " '(38.66551020200046, -80.71264013499967)'\n",
      " '(44.39319117400049, -89.81637074199966)'\n",
      " '(43.23554134300048, -108.10983035299967)']\n",
      "\n",
      "area\n",
      "['East' 'West']\n",
      "\n"
     ]
    }
   ],
   "source": [
    "for i in hypertension.columns: \n",
    "    print(i)\n",
    "    print(hypertension[i].unique())\n",
    "    print(\"\")"
   ]
  },
  {
   "cell_type": "markdown",
   "metadata": {},
   "source": [
    "There are two measures: \n",
    "- 'Prevalence of hypertension among US adults (18+); BRFSS'\n",
    "- 'Prevalence of hypertension medication use among US adults (18+) with hypertension; BRFSS'\n",
    "\n",
    "We will be using the former of the two"
   ]
  },
  {
   "cell_type": "code",
   "execution_count": 74,
   "metadata": {},
   "outputs": [],
   "source": [
    "hypertension_prev = hypertension[hypertension[\"IndicatorID\"] == \"BR011\"][\"Data_Value\"].tolist()"
   ]
  },
  {
   "cell_type": "markdown",
   "metadata": {},
   "source": [
    "## Area (Target)"
   ]
  },
  {
   "cell_type": "code",
   "execution_count": 75,
   "metadata": {
    "collapsed": true
   },
   "outputs": [
    {
     "data": {
      "text/plain": [
       "51"
      ]
     },
     "execution_count": 75,
     "metadata": {},
     "output_type": "execute_result"
    }
   ],
   "source": [
    "# using physcial dataframe to get area labels\n",
    "area_var = physical[\"area\"]\n",
    "len(area_var)"
   ]
  },
  {
   "cell_type": "markdown",
   "metadata": {},
   "source": [
    "### Creating Dataframe"
   ]
  },
  {
   "cell_type": "code",
   "execution_count": 76,
   "metadata": {
    "collapsed": true
   },
   "outputs": [],
   "source": [
    "df_analysis = pd.DataFrame({\"cholesterol\" : high_chol,\n",
    "              \"nutrition\": nutrition_var,\n",
    "              \"obesity\": obesity_prev,\n",
    "              \"hypertension\": hypertension_prev,\n",
    "              \"smoking\": smoking_var,\n",
    "              \"physical_inactivity\": physical_var,\n",
    "              \"area\": area_var})"
   ]
  },
  {
   "cell_type": "code",
   "execution_count": 78,
   "metadata": {
    "collapsed": true
   },
   "outputs": [
    {
     "data": {
      "text/html": [
       "<div>\n",
       "<style scoped>\n",
       "    .dataframe tbody tr th:only-of-type {\n",
       "        vertical-align: middle;\n",
       "    }\n",
       "\n",
       "    .dataframe tbody tr th {\n",
       "        vertical-align: top;\n",
       "    }\n",
       "\n",
       "    .dataframe thead th {\n",
       "        text-align: right;\n",
       "    }\n",
       "</style>\n",
       "<table border=\"1\" class=\"dataframe\">\n",
       "  <thead>\n",
       "    <tr style=\"text-align: right;\">\n",
       "      <th></th>\n",
       "      <th>area</th>\n",
       "      <th>cholesterol</th>\n",
       "      <th>hypertension</th>\n",
       "      <th>nutrition</th>\n",
       "      <th>obesity</th>\n",
       "      <th>physical_inactivity</th>\n",
       "      <th>smoking</th>\n",
       "    </tr>\n",
       "  </thead>\n",
       "  <tbody>\n",
       "    <tr>\n",
       "      <th>62924</th>\n",
       "      <td>East</td>\n",
       "      <td>37.2</td>\n",
       "      <td>37.6</td>\n",
       "      <td>87.3</td>\n",
       "      <td>32.9</td>\n",
       "      <td>68.0</td>\n",
       "      <td>25.2</td>\n",
       "    </tr>\n",
       "    <tr>\n",
       "      <th>62946</th>\n",
       "      <td>West</td>\n",
       "      <td>32.3</td>\n",
       "      <td>30.6</td>\n",
       "      <td>80.9</td>\n",
       "      <td>28.1</td>\n",
       "      <td>77.9</td>\n",
       "      <td>22.5</td>\n",
       "    </tr>\n",
       "    <tr>\n",
       "      <th>62968</th>\n",
       "      <td>West</td>\n",
       "      <td>37.2</td>\n",
       "      <td>26.9</td>\n",
       "      <td>78.3</td>\n",
       "      <td>25.3</td>\n",
       "      <td>76.0</td>\n",
       "      <td>19.4</td>\n",
       "    </tr>\n",
       "    <tr>\n",
       "      <th>62990</th>\n",
       "      <td>East</td>\n",
       "      <td>35.3</td>\n",
       "      <td>33.5</td>\n",
       "      <td>86.4</td>\n",
       "      <td>31.6</td>\n",
       "      <td>70.0</td>\n",
       "      <td>27.8</td>\n",
       "    </tr>\n",
       "    <tr>\n",
       "      <th>63012</th>\n",
       "      <td>West</td>\n",
       "      <td>34.0</td>\n",
       "      <td>27.6</td>\n",
       "      <td>75.6</td>\n",
       "      <td>24.6</td>\n",
       "      <td>80.9</td>\n",
       "      <td>13.7</td>\n",
       "    </tr>\n",
       "  </tbody>\n",
       "</table>\n",
       "</div>"
      ],
      "text/plain": [
       "       area  cholesterol  hypertension  nutrition  obesity  \\\n",
       "62924  East         37.2          37.6       87.3     32.9   \n",
       "62946  West         32.3          30.6       80.9     28.1   \n",
       "62968  West         37.2          26.9       78.3     25.3   \n",
       "62990  East         35.3          33.5       86.4     31.6   \n",
       "63012  West         34.0          27.6       75.6     24.6   \n",
       "\n",
       "       physical_inactivity  smoking  \n",
       "62924                 68.0     25.2  \n",
       "62946                 77.9     22.5  \n",
       "62968                 76.0     19.4  \n",
       "62990                 70.0     27.8  \n",
       "63012                 80.9     13.7  "
      ]
     },
     "execution_count": 78,
     "metadata": {},
     "output_type": "execute_result"
    }
   ],
   "source": [
    "df_analysis.head()"
   ]
  },
  {
   "cell_type": "code",
   "execution_count": 79,
   "metadata": {
    "collapsed": true
   },
   "outputs": [
    {
     "name": "stdout",
     "output_type": "stream",
     "text": [
      "['Prevalence of cholesterol screening in the past 5 years among US adults (20+); BRFSS'\n",
      " 'Prevalence of high total cholesterol among US adults (20+); BRFSS']\n",
      "['Prevalence of consuming fruits and vegetables less than 5 times per day among US adults (18+); BRFSS']\n",
      "['Prevalence of obesity among US adults (20+); BRFSS'\n",
      " 'Prevalence of healthy weight among US adults (20+); BRFSS']\n",
      "['Prevalence of hypertension among US adults (18+); BRFSS'\n",
      " 'Prevalence of hypertension medication use among US adults (18+) with hypertension; BRFSS']\n",
      "['Prevalence of current smoking among US adults (18+); BRFSS']\n",
      "['Prevalence of physical inactivity among US adults (18+); BRFSS']\n"
     ]
    }
   ],
   "source": [
    "# metrics of each variables (%)\n",
    "for df in [cholesterol, nutrition, obesity, hypertension, smoking, physical]:\n",
    "    print(df[\"Indicator\"].unique())"
   ]
  },
  {
   "cell_type": "markdown",
   "metadata": {},
   "source": [
    "### KNN Classification"
   ]
  },
  {
   "cell_type": "code",
   "execution_count": 80,
   "metadata": {
    "collapsed": true
   },
   "outputs": [],
   "source": [
    "# importing from sklearn\n",
    "from sklearn.cross_validation import train_test_split\n",
    "from sklearn.neighbors import KNeighborsClassifier\n",
    "from sklearn.model_selection import cross_val_score"
   ]
  },
  {
   "cell_type": "code",
   "execution_count": 81,
   "metadata": {},
   "outputs": [],
   "source": [
    "# assign independent and dependent variables\n",
    "X = df_analysis.iloc[:,1:6]\n",
    "y = df[\"area\"]"
   ]
  },
  {
   "cell_type": "code",
   "execution_count": 82,
   "metadata": {},
   "outputs": [],
   "source": [
    "# split data into training and validation set\n",
    "X_train, X_test, y_train, y_test = train_test_split(X, y, test_size = 0.2)"
   ]
  },
  {
   "cell_type": "code",
   "execution_count": 83,
   "metadata": {},
   "outputs": [],
   "source": [
    "# list of neighbour candidates\n",
    "neighbors = np.arange(1, 20, 2)"
   ]
  },
  {
   "cell_type": "code",
   "execution_count": 90,
   "metadata": {},
   "outputs": [],
   "source": [
    "# empty list that will hold cv scores\n",
    "cv_scores = []\n",
    "\n",
    "# perform 5-fold cross validation\n",
    "for k in neighbors:\n",
    "    knn = KNeighborsClassifier(n_neighbors=k)\n",
    "    scores = cross_val_score(knn, X_train, y_train, cv=5, scoring='accuracy')\n",
    "    cv_scores.append(scores.mean())"
   ]
  },
  {
   "cell_type": "code",
   "execution_count": 91,
   "metadata": {},
   "outputs": [],
   "source": [
    "# empty list that will hold cv scores\n",
    "cv_scores = []\n",
    "\n",
    "# perform 5-fold cross validation\n",
    "for k in neighbors:\n",
    "    knn = KNeighborsClassifier(n_neighbors=k)\n",
    "    scores = cross_val_score(knn, X_train, y_train, cv=5, scoring='accuracy')\n",
    "    cv_scores.append(scores.mean())"
   ]
  },
  {
   "cell_type": "code",
   "execution_count": 92,
   "metadata": {
    "collapsed": true
   },
   "outputs": [
    {
     "data": {
      "text/plain": [
       "[0.5761904761904761,\n",
       " 0.553968253968254,\n",
       " 0.5031746031746032,\n",
       " 0.6067460317460318,\n",
       " 0.6353174603174604,\n",
       " 0.6103174603174604,\n",
       " 0.6797619047619048,\n",
       " 0.6511904761904762,\n",
       " 0.6734126984126985,\n",
       " 0.6511904761904762]"
      ]
     },
     "execution_count": 92,
     "metadata": {},
     "output_type": "execute_result"
    }
   ],
   "source": [
    "cv_scores"
   ]
  },
  {
   "cell_type": "code",
   "execution_count": 94,
   "metadata": {
    "collapsed": true
   },
   "outputs": [
    {
     "data": {
      "text/plain": [
       "([<matplotlib.axis.XTick at 0x1144b9fd0>,\n",
       "  <matplotlib.axis.XTick at 0x116176f60>,\n",
       "  <matplotlib.axis.XTick at 0x11615d0f0>,\n",
       "  <matplotlib.axis.XTick at 0x1161c2748>,\n",
       "  <matplotlib.axis.XTick at 0x1161c6240>,\n",
       "  <matplotlib.axis.XTick at 0x1161c6cf8>,\n",
       "  <matplotlib.axis.XTick at 0x11bb267f0>,\n",
       "  <matplotlib.axis.XTick at 0x11bb2b2e8>,\n",
       "  <matplotlib.axis.XTick at 0x11bb2bda0>,\n",
       "  <matplotlib.axis.XTick at 0x11bb32898>,\n",
       "  <matplotlib.axis.XTick at 0x11bb38390>,\n",
       "  <matplotlib.axis.XTick at 0x11bb38e48>,\n",
       "  <matplotlib.axis.XTick at 0x11bb3c940>,\n",
       "  <matplotlib.axis.XTick at 0x11bb42438>,\n",
       "  <matplotlib.axis.XTick at 0x11bb42ef0>,\n",
       "  <matplotlib.axis.XTick at 0x11bb489e8>,\n",
       "  <matplotlib.axis.XTick at 0x11bb4e4e0>,\n",
       "  <matplotlib.axis.XTick at 0x11bb4ef98>,\n",
       "  <matplotlib.axis.XTick at 0x11bb55a90>,\n",
       "  <matplotlib.axis.XTick at 0x11bb5b588>],\n",
       " <a list of 20 Text xticklabel objects>)"
      ]
     },
     "execution_count": 94,
     "metadata": {},
     "output_type": "execute_result"
    },
    {
     "data": {
      "image/png": "[encoded data removed]",
      "text/plain": [
       "<matplotlib.figure.Figure at 0x1145b3e10>"
      ]
     },
     "metadata": {},
     "output_type": "display_data"
    }
   ],
   "source": [
    "# mse equal to 1 - accruacy score\n",
    "MSE = [1 - x for x in cv_scores]\n",
    "\n",
    "# plot misclassification error vs k\n",
    "plt.figure(figsize = (9, 5))\n",
    "plt.plot(neighbors, MSE)\n",
    "plt.xlabel('Number of Neighbors, K')\n",
    "plt.ylabel('MSE')\n",
    "plt.title(\"MSE vs Number of Neighbors\")\n",
    "plt.xticks(np.arange(0, 20, step=1))"
   ]
  },
  {
   "cell_type": "markdown",
   "metadata": {},
   "source": [
    "#### Conclusion\n",
    "To answer question 3, we first used the latitude and longitude coordinates in order to create a dataframe that shows the area of the country the location is (either East or West). We used K-nearest neighbors classification with 5-fold cross-validation in order to create a model that can predict the region of the U.S. based on the disease risk factors from the dataset. We were able to create a model that can predict the region of the U.S. based on risk factors by using different factors to create a training and test set. The model had an about 68% percent accuracy when there are 13 neighbors. "
   ]
  },
  {
   "cell_type": "markdown",
   "metadata": {},
   "source": [
    "#### Links to datasets\n",
    "Behavioral Risk Factor Data: Heart Disease and Stroke Prevention\n",
    "https://catalog.data.gov/dataset/behavioral-risk-factor-data-heart-disease-amp-stroke-prevention-67c1f \n",
    "\n",
    "\n",
    "Nutrition, Physical Activity, and Obesity - American Community Survey\n",
    "https://catalog.data.gov/dataset/nutrition-physical-activity-and-obesity-american-community-survey-abe59 "
   ]
  }
 ],
 "metadata": {
  "kernelspec": {
   "display_name": "Python 3",
   "language": "python",
   "name": "python3"
  },
  "language_info": {
   "codemirror_mode": {
    "name": "ipython",
    "version": 3
   },
   "file_extension": ".py",
   "mimetype": "text/x-python",
   "name": "python",
   "nbconvert_exporter": "python",
   "pygments_lexer": "ipython3",
   "version": "3.6.5"
  }
 },
 "nbformat": 4,
 "nbformat_minor": 2
}
